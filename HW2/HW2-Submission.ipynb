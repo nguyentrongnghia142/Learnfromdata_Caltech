{
 "cells": [
  {
   "cell_type": "markdown",
   "metadata": {},
   "source": [
    "# Bài tập 2\n",
    "\n",
    "Nguyễn Trọng Nghĩa - 1712615"
   ]
  },
  {
   "cell_type": "markdown",
   "metadata": {},
   "source": [
    "## Câu 1 (1 điểm)"
   ]
  },
  {
   "cell_type": "code",
   "execution_count": 1,
   "metadata": {},
   "outputs": [
    {
     "name": "stdout",
     "output_type": "stream",
     "text": [
      "Vmin trung bình với 100000 lần thực hiện: 0.037694\n"
     ]
    }
   ],
   "source": [
    "import numpy as np\n",
    "head = np.random.binomial(10,0.5,(100000,1000)) # tung một 1000 đồng xu với xác suất 0,5 ,thực hiện lặp 100000 lần\n",
    "print(\"Vmin trung bình với 100000 lần thực hiện:\",np.mean(np.min(np.divide(head,10),axis=1)))"
   ]
  },
  {
   "cell_type": "markdown",
   "metadata": {
    "deletable": false,
    "nbgrader": {
     "cell_type": "markdown",
     "checksum": "2e83d862b3c5fd4fb57d72c50e8115f8",
     "grade": true,
     "grade_id": "c1",
     "locked": false,
     "points": 1,
     "schema_version": 3,
     "solution": true,
     "task": false
    }
   },
   "source": [
    "`Vmin` $\\approx$ `0.04` nên chọn giá trị gần nhất là `0.01`\n",
    "\n",
    "Đáp án là: [b]"
   ]
  },
  {
   "cell_type": "markdown",
   "metadata": {},
   "source": [
    "## Câu 2 (1 điểm)"
   ]
  },
  {
   "cell_type": "code",
   "execution_count": 2,
   "metadata": {},
   "outputs": [
    {
     "name": "stdout",
     "output_type": "stream",
     "text": [
      "c1 satisfies the Hoeffding's inequality:  True\n",
      "cmin satisfies the Hoeffding's inequality:  False\n",
      "crand satisfies the Hoeffding's inequality:  True\n"
     ]
    }
   ],
   "source": [
    "import math\n",
    "head = np.random.binomial(10,0.5,(100000,1000))/10  # mô phỏng tung 1000 đồng xu, thực hiện 100000 lần\n",
    "headc1 =np.absolute(head[0]-0.5)   # đồng xu thứ nhất head[0] từ 1000 đồng xu\n",
    "headcrand = np.absolute(head-0.5)  # đồng xu random trong 1000 đồng xu, mỗi lần thực hiện sẽ random các đồng xu khác nhau\n",
    "headcrand = headcrand[np.arange(headcrand.shape[0]),np.random.choice(np.arange(headcrand.shape[1]), size=headcrand.shape[0])]\n",
    "headcmin = np.absolute(np.min(head,axis=1)-0.5)  # đồng xu có mặt nhỏ nhất trong 1000 đồng xu\n",
    "# head[head>0]\n",
    "def ishoeffding(head,N): # hàm kiểm ra Hoeffding \n",
    "    for i in np.arange(0.01,0.5,0.01):  # với mỗi epsilon (0< epsilon <0.5) nếu VT > VT thì không theo BDT Hoeffding\n",
    "        if(len(np.where(head>i)[0])/100000) > 2*math.exp(-2*(np.around(i,2)**2)*N):  \n",
    "            return False\n",
    "    return True\n",
    "print(\"c1 satisfies the Hoeffding's inequality: \",ishoeffding(headc1,10))  # xuất kết quả của mỗi đồng xu\n",
    "print(\"cmin satisfies the Hoeffding's inequality: \",ishoeffding(headcmin,10))\n",
    "print(\"crand satisfies the Hoeffding's inequality: \",ishoeffding(headcrand,10))"
   ]
  },
  {
   "cell_type": "markdown",
   "metadata": {
    "deletable": false,
    "nbgrader": {
     "cell_type": "markdown",
     "checksum": "47d4e2bb3e4812ef7b37e032a898cfec",
     "grade": true,
     "grade_id": "c2",
     "locked": false,
     "points": 1,
     "schema_version": 3,
     "solution": true,
     "task": false
    }
   },
   "source": [
    "Dựa vào các kết quả trên : `c1 và crand` thỏa mãn bất đẳng thức `Hoeffding's inequality`\n",
    "\n",
    "Đáp án là: [d]"
   ]
  },
  {
   "cell_type": "markdown",
   "metadata": {},
   "source": [
    "## Câu 3 (1 điểm)"
   ]
  },
  {
   "cell_type": "markdown",
   "metadata": {},
   "source": [
    "`Hypothesis h` có độ lỗi so với `hàm mục tiêu f` là $\\mu$ (tức là $y \\neq f(x)$)\n",
    "\n",
    "Noise của f được xác định:\n",
    "$$ P(y|x) \\left\\{\\begin{matrix}\n",
    "\\lambda & y = f(x) \\\\ 1-\\lambda & y \\neq f(x)\n",
    "\\end{matrix}\\right.$$\n",
    "\n",
    "$P(y|x)$ tạo thành một hệ biến cố đầy đủ: $P(h \\approx y) = $ Độ chính xác `h` với nhiễu + Độ lỗi `h` với dữ liệu chuẩn $$=P(f(x) _{}\\neq y) * P(h = f(x)) +P(f(x) =y)* P(h _{}\\neq f(x)) =(1-\\lambda)*(1-\\mu) + \\lambda*\\mu$$"
   ]
  },
  {
   "cell_type": "markdown",
   "metadata": {
    "deletable": false,
    "nbgrader": {
     "cell_type": "markdown",
     "checksum": "0997a909d9ab1f250c2bfd0645fee970",
     "grade": true,
     "grade_id": "c3",
     "locked": false,
     "points": 1,
     "schema_version": 3,
     "solution": true,
     "task": false
    }
   },
   "source": [
    "Đáp án là: [e]"
   ]
  },
  {
   "cell_type": "markdown",
   "metadata": {},
   "source": [
    "## Câu 4 (1 điểm)"
   ]
  },
  {
   "cell_type": "markdown",
   "metadata": {},
   "source": [
    "Ta có: $P(h \\approx y) = (1-\\lambda)*(1-\\mu) + \\lambda*\\mu = 1 + 2 *\\lambda * \\mu - \\mu - \\lambda$\n",
    "\n",
    "Để độ hiệu quả của `h` độc lập (tức là không phụ thuộc) với $\\mu$ thì $\\Rightarrow 2 *\\lambda * \\mu - \\mu =0 \\Rightarrow\\lambda = \\frac{1}{2}$"
   ]
  },
  {
   "cell_type": "markdown",
   "metadata": {
    "deletable": false,
    "nbgrader": {
     "cell_type": "markdown",
     "checksum": "efabab5c4035a6864ac8cb3e0061c6f0",
     "grade": true,
     "grade_id": "c4",
     "locked": false,
     "points": 1,
     "schema_version": 3,
     "solution": true,
     "task": false
    }
   },
   "source": [
    "Đáp án là: [b]"
   ]
  },
  {
   "cell_type": "markdown",
   "metadata": {},
   "source": [
    "## Câu 5 (1 điểm)"
   ]
  },
  {
   "cell_type": "code",
   "execution_count": 3,
   "metadata": {},
   "outputs": [],
   "source": [
    "def generate_target_w(): # khởi tạo hàm mục tiêu với đường thẳng nối 2 điểm random theo phân phối đều [-1, 1]x[-1, 1]\n",
    "    \"\"\" \n",
    "    Generates target_w (the vector of parameters of f) \n",
    "    from two random, uniformly distributed points in [-1, 1] x [-1, 1].\n",
    "    \n",
    "    Returns\n",
    "    -------\n",
    "    target_w : numpy array, shape (3, 1) \n",
    "        The vector of parameters of f.\n",
    "    \"\"\"\n",
    "    # Generate two points from a uniform distribution over [-1, 1]x[-1, 1]\n",
    "    p1 = np.random.uniform(-1, 1, 2)\n",
    "    p2 = np.random.uniform(-1, 1, 2)\n",
    "    # Compute the target W from these two points\n",
    "    target_w = np.array([p1[1]*p2[0] - p1[0]*p2[1], p2[1] - p1[1], p1[0] - p2[0]]).reshape((-1, 1)) \n",
    "    \n",
    "    return target_w"
   ]
  },
  {
   "cell_type": "code",
   "execution_count": 4,
   "metadata": {},
   "outputs": [],
   "source": [
    "def generate_data(N, target_w): # phat sinh du lieu mau tranh du lieu nam tren duong thang ham muc tieu f\n",
    "    \"\"\"\n",
    "    Generates a data set by generating random inputs and then using target_w to generate the \n",
    "    corresponding outputs.\n",
    "    \n",
    "    Parameters\n",
    "    ----------\n",
    "    N : int\n",
    "        The number of examples.\n",
    "    target_w : numpy array, shape (3, 1) \n",
    "        The vector of parameters of f.\n",
    "    \n",
    "    Returns\n",
    "    -------\n",
    "    X : numpy array, shape (N, 3)\n",
    "        The matrix of input vectors (each row corresponds to an input vector); the first column of \n",
    "        this matrix is all ones.\n",
    "    Y : numpy array, shape (N, 1)\n",
    "        The vector of outputs.        \n",
    "    \"\"\"\n",
    "    bad_data = True # `bad_data = True` means: data contain points on the target line \n",
    "                    # (this rarely happens, but just to be careful)\n",
    "                    # -> y's of these points = 0 (with np.sign); \n",
    "                    #    we don't want this (y's of data must be -1 or 1)\n",
    "                    # -> re-generate data until `bad_data = False`\n",
    "    \n",
    "    while bad_data == True:\n",
    "        X = np.random.uniform(-1, 1, (N, 2))\n",
    "        X = np.hstack((np.ones((N, 1)), X)) # Add 'ones' column\n",
    "        Y = np.sign(np.dot(X, target_w))\n",
    "        if (0 not in Y): # Good data\n",
    "            bad_data = False\n",
    "    \n",
    "    return X, Y"
   ]
  },
  {
   "cell_type": "code",
   "execution_count": 5,
   "metadata": {},
   "outputs": [],
   "source": [
    "def linearRegression(X, Y): #tìm đường hồi quy tuyến tính\n",
    "    \"\"\"\n",
    "    Parameters\n",
    "    ----------\n",
    "    X : numpy array, shape (N, 3)\n",
    "        The matrix of input vectors (each row corresponds to an input vector); the first column of \n",
    "        this matrix is all ones.\n",
    "    Y : numpy array, shape (N, 1)\n",
    "        The vector of outputs.\n",
    "    \n",
    "    Returns\n",
    "    -------\n",
    "    w : numpy array, shape (3, 1) \n",
    "        The vector of parameters of g.\n",
    "    \"\"\"\n",
    "    X_dagger = np.dot(np.linalg.inv(np.dot(X.T, X)), X.T) # cực tiểu độ lỗi MSE\n",
    "    w = np.dot(X_dagger, Y)\n",
    "        \n",
    "    return w"
   ]
  },
  {
   "cell_type": "code",
   "execution_count": 6,
   "metadata": {},
   "outputs": [],
   "source": [
    "def avgerr(N):  # độ lỗi trung bình trên tập train với linear Regression\n",
    "    \"\"\"\n",
    "    Parameters\n",
    "    ----------\n",
    "    N : int\n",
    "        The number of training examples.\n",
    "    \"\"\"\n",
    "    num_runs = 1000\n",
    "    avg_train_err = 0.0 # giá trị Độ lỗi trung bình trên tập train Ein\n",
    "    avg_test_err = 0.0 # giá trị nhận độ lỗi trung bình trên test Eout\n",
    "    \n",
    "    for r in range(num_runs):\n",
    "        # Generate target_w (Khởi tạo ngẫu nhiên hàm mục tiêu f(x))\n",
    "        target_w = generate_target_w()\n",
    "        \n",
    "        # Generate training set (tạo dữ liệu train trên f(x))\n",
    "        X, Y = generate_data(N, target_w)\n",
    "        \n",
    "        #tìm g dựa trên cực tiểu hóa đạo hàm\n",
    "        w = linearRegression(X, Y)\n",
    "\n",
    "        # Test g trên tập train (độ lỗi trên dữ liệu train)\n",
    "        train_err = np.mean(np.sign(np.dot(X, w)) != Y)\n",
    "         # Phát sinh 1000 dữ liệu test\n",
    "        X_test, Y_test = generate_data(1000, target_w)\n",
    "        \n",
    "        # Test g trên tập test (độ lỗi trên dữ liệu test)\n",
    "        test_err = np.mean(np.sign(np.dot(X_test, w)) != Y_test)\n",
    "        \n",
    "        # Cập nhật độ lỗi trung bình Ein và Eout\n",
    "        avg_test_err += (test_err * 1.0 / num_runs)\n",
    "        avg_train_err += (train_err * 1.0 / num_runs)\n",
    "    \n",
    "    # xuất kết quả\n",
    "    print('avg_train_err = %f' % (avg_train_err))\n",
    "    print('avg_test_err = %f' % (avg_test_err))"
   ]
  },
  {
   "cell_type": "code",
   "execution_count": 7,
   "metadata": {},
   "outputs": [
    {
     "name": "stdout",
     "output_type": "stream",
     "text": [
      "avg_train_err = 0.040500\n",
      "avg_test_err = 0.048887\n"
     ]
    }
   ],
   "source": [
    "avgerr(100)"
   ]
  },
  {
   "cell_type": "markdown",
   "metadata": {
    "deletable": false,
    "nbgrader": {
     "cell_type": "markdown",
     "checksum": "0b484b8390bec96142e8a1213ee8cd2c",
     "grade": true,
     "grade_id": "c5",
     "locked": false,
     "points": 1,
     "schema_version": 3,
     "solution": true,
     "task": false
    }
   },
   "source": [
    "Kết quả (độ lỗi trung bình Ein) `avg_train_err` $\\approx$ 0.03 nên chọn đáp án gần nhất là: `0.01`\n",
    "\n",
    "Đáp án là: [c]"
   ]
  },
  {
   "cell_type": "markdown",
   "metadata": {},
   "source": [
    "## Câu 6 (1 điểm)"
   ]
  },
  {
   "cell_type": "markdown",
   "metadata": {
    "deletable": false,
    "nbgrader": {
     "cell_type": "markdown",
     "checksum": "26f542221236fb24d0ddbee584eed7d0",
     "grade": true,
     "grade_id": "c6",
     "locked": false,
     "points": 1,
     "schema_version": 3,
     "solution": true,
     "task": false
    }
   },
   "source": [
    "Kết quả từ câu 9 (độ lỗi trung bình Eout) `avg_test_err` $\\approx$ 0.04 nên chọn đáp án gần nhất là: `0.01`\n",
    "\n",
    "Đáp án là: [c]"
   ]
  },
  {
   "cell_type": "markdown",
   "metadata": {},
   "source": [
    "## Câu 7 (1 điểm)"
   ]
  },
  {
   "cell_type": "code",
   "execution_count": 8,
   "metadata": {},
   "outputs": [],
   "source": [
    "def PLA(X,Y): # perceptron learning algorithm\n",
    "    \n",
    "    #khởi tạo trọng số w bằng linearRegession\n",
    "    w = np.dot(np.dot(np.linalg.inv(np.dot(X.T, X)), X.T),Y) # dùng trọng số của linear regression bất đầu cho PLA\n",
    "    \n",
    "    iteration = 0  # số lần cập nhật để phân tách tốt (số lần để hội tụ)\n",
    "    \n",
    "    w_bad = True;\n",
    "    while w_bad:\n",
    "        miss = np.where(np.sign(np.dot(X,w))!=Y)[0] # lấy mảng vị trí những điểm bị phân lớp sai\n",
    "        if (miss.size == 0):  # nếu mảng rỗng thì phân tách thành công, kết thúc PLA\n",
    "            break;\n",
    "        random = np.random.choice(miss)  # chọn random trong những điểm phân lớp\n",
    "        w = w + Y[random]*X[random].reshape(-1,1) # cập nhật giá trị w cho điểm lỗi\n",
    "        iteration +=1 # tăng số lần hội tụ (số lần thực thi cập nhật) lên 1\n",
    "        \n",
    "    return w, iteration"
   ]
  },
  {
   "cell_type": "code",
   "execution_count": 9,
   "metadata": {},
   "outputs": [],
   "source": [
    "def main(N): # tính số lần để hội tụ \n",
    "    \n",
    "    num_runs =1000 # thực hiện trung bình 1000 lần\n",
    "    avg_num_iterations = 0.0 # khởi tạo số trung bình số lần hội tụ (phân tách hoàn toàn)\n",
    "    for r in range(num_runs):\n",
    "        # Generate target_w\n",
    "        target_w = generate_target_w()\n",
    "        \n",
    "        # Generate training set\n",
    "        X, Y = generate_data(N, target_w)\n",
    "        \n",
    "        # tìm w với PLA  với w khởi tạo bằng linear Regression, và số lần để hội tụ\n",
    "        w, num_iterations = PLA(X, Y)\n",
    "        \n",
    "        # Update average values\n",
    "        avg_num_iterations += (num_iterations * 1.0 / num_runs)\n",
    "        \n",
    "    # Print results\n",
    "    print('avg_num_iterations = %f' % (avg_num_iterations))"
   ]
  },
  {
   "cell_type": "code",
   "execution_count": 10,
   "metadata": {},
   "outputs": [
    {
     "name": "stdout",
     "output_type": "stream",
     "text": [
      "avg_num_iterations = 3.434000\n"
     ]
    }
   ],
   "source": [
    "main(10)"
   ]
  },
  {
   "cell_type": "markdown",
   "metadata": {
    "deletable": false,
    "nbgrader": {
     "cell_type": "markdown",
     "checksum": "322a244b0fae3a20ec568a5099aaaec1",
     "grade": true,
     "grade_id": "c7",
     "locked": false,
     "points": 1,
     "schema_version": 3,
     "solution": true,
     "task": false
    }
   },
   "source": [
    "Kết quả `avg_num_iterations` $\\approx$ 4 nên chọn đáp án gần nhất là: `1`\n",
    "\n",
    "Đáp án là: [a]"
   ]
  },
  {
   "cell_type": "markdown",
   "metadata": {},
   "source": [
    "## Câu 8 (1 điểm)"
   ]
  },
  {
   "cell_type": "code",
   "execution_count": 11,
   "metadata": {},
   "outputs": [],
   "source": [
    "def computeY(X): # tính giá trị Y của các bộ dữ liệu X theo hàm mục tiêu\n",
    "    Y=[]\n",
    "    for i in X[0:,:]:\n",
    "        results = np.sign(i[1]**2 + i[2]**2 -i[0]*0.6) # hàm mục tiêu f (x1**2 +x2**2-0.6)\n",
    "        Y.append(results)\n",
    "    return np.reshape(Y, (-1, 1)) # kích thước (N,1)"
   ]
  },
  {
   "cell_type": "code",
   "execution_count": 12,
   "metadata": {},
   "outputs": [],
   "source": [
    "def generate_Data(N): # phát sinh dữ liệu ngẫu nhiên theo phân phối đều \n",
    "    data_bad = True\n",
    "    while data_bad:\n",
    "        X = np.random.uniform(-1,1,(N,2))\n",
    "        X = np.hstack((np.ones((N,1)),X)) # thêm cột giá trị w0=1\n",
    "        Y = computeY(X) # Y shape(N,1)\n",
    "        if (0 not in Y):  # tránh dữ liệu nằm trên hàm mục tiêu\n",
    "            data_bad = False\n",
    "    return X,Y  "
   ]
  },
  {
   "cell_type": "code",
   "execution_count": 13,
   "metadata": {},
   "outputs": [],
   "source": [
    "def generate_Noise(Y,N): # phát sinh dữ liệu nhiễu\n",
    "    random = np.random.choice(np.arange(N), size=int(0.1*N), replace=False) # lấy random 10% số lượng mẫu \n",
    "    for i in random: # đổi ngược Y tại những vị trí random được\n",
    "        if (Y[i]==1):\n",
    "            Y[i] = -1\n",
    "        elif(Y[i] == -1):\n",
    "            Y[i] = 1 \n",
    "    return Y     # shape(N,1)     "
   ]
  },
  {
   "cell_type": "code",
   "execution_count": 14,
   "metadata": {},
   "outputs": [],
   "source": [
    "def EinNonlinear(N): # độ lỗi trên tập train với Linear Regression với 10% dữ liệu nhiễu\n",
    "    num_runs =1000\n",
    "    avg_train_err =0.0\n",
    "    for r in range(num_runs):\n",
    "        X,Y = generate_Data(N) # phát sinh tập dữ liệu\n",
    "        Y = generate_Noise(Y,N)   # tạo nhiễu cho Y\n",
    "        w = linearRegression(X,Y) # tìm g theo linear regression\n",
    "        test_err = np.mean(np.sign(np.dot(X, w)) != Y)  # tính trung bình độ lỗi\n",
    "        \n",
    "        # Update average values\n",
    "        avg_train_err += (test_err * 1.0 / num_runs)\n",
    "    \n",
    "    # Print results\n",
    "    print('avg_train_err = %f' % (avg_train_err))"
   ]
  },
  {
   "cell_type": "code",
   "execution_count": 15,
   "metadata": {},
   "outputs": [
    {
     "name": "stdout",
     "output_type": "stream",
     "text": [
      "avg_train_err = 0.504049\n"
     ]
    }
   ],
   "source": [
    "EinNonlinear(1000)"
   ]
  },
  {
   "cell_type": "markdown",
   "metadata": {
    "deletable": false,
    "nbgrader": {
     "cell_type": "markdown",
     "checksum": "d81773f072cd15e4a27b6cd240a5d990",
     "grade": true,
     "grade_id": "c8",
     "locked": false,
     "points": 1,
     "schema_version": 3,
     "solution": true,
     "task": false
    }
   },
   "source": [
    "Kết quả `avg_train_err` $\\approx$ 0.5 nên chọn đáp án gần nhất là: `0.5`\n",
    "\n",
    "Đáp án là: [d]"
   ]
  },
  {
   "cell_type": "markdown",
   "metadata": {},
   "source": [
    "## Câu 9 (1 điểm)"
   ]
  },
  {
   "cell_type": "code",
   "execution_count": 16,
   "metadata": {},
   "outputs": [],
   "source": [
    "def transformPoly(X):\n",
    "    x1x2 = np.multiply(X[:,1],X[:,2]) # tạo dữ liệu cột x1*x2\n",
    "    x1x1 = np.multiply(X[:,1],X[:,1])  #tạo dữ liệu cột x1**2\n",
    "    x2x2 = np.multiply(X[:,2],X[:,2])  #tạo dữ liệu cột x2**2\n",
    "    X = np.column_stack((X,x1x2,x1x1,x2x2))  # thêm dữ liệu 3 cột vào numpy array X\n",
    "    return X"
   ]
  },
  {
   "cell_type": "code",
   "execution_count": 17,
   "metadata": {},
   "outputs": [],
   "source": [
    "def EoutNonlinear(N):  # Độ lỗi trung bình trên tập test (có sử dụng lại một số hàm trên câu 8,5)\n",
    "    num_runs =1000\n",
    "    avg_err =0.0\n",
    "    avg_w = np.zeros((6,1)) # khởi tạo trọng số w = 0\n",
    "    for r in range(num_runs):\n",
    "        X,Y = generate_Data(N)  # phát sinh dữ liệu theo f (x1**2 +x2**2-0.6)\n",
    "        Y = generate_Noise(Y,N)  # phat sinh dữ liệu noise\n",
    "        X_poly = transformPoly(X) # chuyển đổi sang đa chiều (2 chiều -> 5 chiều)\n",
    "        w = linearRegression(X_poly,Y) # tìm w theo linear Regression\n",
    "        \n",
    "        X_test,Y_test = generate_Data(1000) # phát sinh 1000 dữ liệu mới\n",
    "        Y_test = generate_Noise(Y_test,1000) # phát sinh noise cho dữ liệu mới\n",
    "        X_poly_test = transformPoly(X_test)   # chuyển đổi dữ liệu sang đa chiều\n",
    "        test_err = np.mean(np.sign(np.dot(X_poly_test, w)) != Y_test)  # kiểm tra độ chính xác trên tập test\n",
    "        avg_err += (test_err * 1.0 / num_runs)  # cộng dồn cập nhật giá trị trung bình qua 1000 lần chạy\n",
    "        avg_w += (w*1.0/num_runs) # tính trung bình w tìm được\n",
    "    \n",
    "    print('avg_test_err = %f' % (avg_err)) # xuất kết quả trung bình độ lỗi trên tập test qua 1000 lần chạy\n",
    "    print('avg_w =',np.around(avg_w.T,3)) # xuất w tìm được"
   ]
  },
  {
   "cell_type": "code",
   "execution_count": 18,
   "metadata": {},
   "outputs": [
    {
     "name": "stdout",
     "output_type": "stream",
     "text": [
      "avg_test_err = 0.126202\n",
      "avg_w = [[-0.992  0.003  0.     0.003  1.558  1.559]]\n"
     ]
    }
   ],
   "source": [
    "EoutNonlinear(1000)"
   ]
  },
  {
   "cell_type": "markdown",
   "metadata": {
    "deletable": false,
    "nbgrader": {
     "cell_type": "markdown",
     "checksum": "e814a2db0b8a53e4fddfee4bcbf405fc",
     "grade": true,
     "grade_id": "c9",
     "locked": false,
     "points": 1,
     "schema_version": 3,
     "solution": true,
     "task": false
    }
   },
   "source": [
    "`avg_w` có $w_{0} \\approx -1 , w_{1} \\approx 0.005,  w_{2} \\approx 0.003, w_{3} \\approx -0.002, w_{4} \\approx 1.5$ và $w_{5} \\approx 1.5$\n",
    "\n",
    "`Hypothesis g` gần nhất, có nhiều $w$ tương đồng là [a]  có $w_{0} = -1, w_{4} = 1.5$ và $w_{5} = 1.5$ \n",
    "\n",
    "Đáp án là: [a]"
   ]
  },
  {
   "cell_type": "markdown",
   "metadata": {},
   "source": [
    "## Câu 10 (1 điểm)"
   ]
  },
  {
   "cell_type": "markdown",
   "metadata": {
    "deletable": false,
    "nbgrader": {
     "cell_type": "markdown",
     "checksum": "41cbf5c6d2b94eeae0a712be2181fef6",
     "grade": true,
     "grade_id": "c10",
     "locked": false,
     "points": 1,
     "schema_version": 3,
     "solution": true,
     "task": false
    }
   },
   "source": [
    "Kết quả từ câu 9 `avg_test_err` $\\approx$ 0.13 nên chọn đáp án gần nhất là: `0.1`\n",
    "\n",
    "Đáp án là: [b]"
   ]
  }
 ],
 "metadata": {
  "kernelspec": {
   "display_name": "Python 3",
   "language": "python",
   "name": "python3"
  },
  "language_info": {
   "codemirror_mode": {
    "name": "ipython",
    "version": 3
   },
   "file_extension": ".py",
   "mimetype": "text/x-python",
   "name": "python",
   "nbconvert_exporter": "python",
   "pygments_lexer": "ipython3",
   "version": "3.8.0"
  },
  "toc": {
   "base_numbering": 1,
   "nav_menu": {},
   "number_sections": true,
   "sideBar": true,
   "skip_h1_title": false,
   "title_cell": "Table of Contents",
   "title_sidebar": "Contents",
   "toc_cell": false,
   "toc_position": {},
   "toc_section_display": true,
   "toc_window_display": false
  },
  "varInspector": {
   "cols": {
    "lenName": 16,
    "lenType": 16,
    "lenVar": 40
   },
   "kernels_config": {
    "python": {
     "delete_cmd_postfix": "",
     "delete_cmd_prefix": "del ",
     "library": "var_list.py",
     "varRefreshCmd": "print(var_dic_list())"
    },
    "r": {
     "delete_cmd_postfix": ") ",
     "delete_cmd_prefix": "rm(",
     "library": "var_list.r",
     "varRefreshCmd": "cat(var_dic_list()) "
    }
   },
   "types_to_exclude": [
    "module",
    "function",
    "builtin_function_or_method",
    "instance",
    "_Feature"
   ],
   "window_display": false
  }
 },
 "nbformat": 4,
 "nbformat_minor": 4
}
