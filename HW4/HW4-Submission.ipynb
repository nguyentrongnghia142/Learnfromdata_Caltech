{
 "cells": [
  {
   "cell_type": "markdown",
   "metadata": {},
   "source": [
    "# Bài tập 4\n",
    "\n",
    "Nguyễn Trọng Nghĩa - 1712615"
   ]
  },
  {
   "cell_type": "markdown",
   "metadata": {},
   "source": [
    "## Câu 1 (1 điểm)"
   ]
  },
  {
   "cell_type": "markdown",
   "metadata": {},
   "source": [
    "- \"95% confidence\" nghĩa là $\\delta = 0.05$; \"your generalization error is at most 0.05\" nghĩa là $\\epsilon = 0.05$\n",
    "- với $N > d_{VC}$ thì $m_\\mathcal{H}(N) \\approx N^{d_{VC}} \\Rightarrow  m_\\mathcal{H}(2N) \\approx (2N)^{d_{VC}}$ (có $d_{VC}$ = 10)\n",
    "\n",
    "Ta có: \n",
    "$$\\epsilon = \\sqrt{\\frac{8}{N} ln \\frac{4m_\\mathcal{H}(2N)}{\\delta} } $$\n",
    "$$ \\Leftrightarrow \\epsilon = \\sqrt{\\frac{8}{N} ln \\frac{2^{d_{VC}+2}N^{d_{VC}}}{\\delta} }$$\n",
    "$$ \\Leftrightarrow \\epsilon = \\sqrt{\\frac{8}{N} (ln 2^{d_{VC}+2} + ln N^{d_{VC}} - ln \\delta) } $$\n"
   ]
  },
  {
   "cell_type": "code",
   "execution_count": 1,
   "metadata": {},
   "outputs": [],
   "source": [
    "import math\n",
    "\n",
    "def samplesize(δ,ϵ,dvc):\n",
    "    Nstart = 10000*dvc\n",
    "    epsilon = 0\n",
    "    while abs(ϵ-epsilon) > 0.0001:\n",
    "        epsilon = math.sqrt((8/Nstart)*math.log((2**(dvc+2)*Nstart**dvc)/δ))\n",
    "        Nstart += 1\n",
    "    return Nstart                            "
   ]
  },
  {
   "cell_type": "code",
   "execution_count": 2,
   "metadata": {},
   "outputs": [
    {
     "name": "stdout",
     "output_type": "stream",
     "text": [
      "Kích thước tập mẫu phù hợp là: 451015\n"
     ]
    }
   ],
   "source": [
    "print(\"Kích thước tập mẫu phù hợp là:\",samplesize(0.05,0.05,10))"
   ]
  },
  {
   "cell_type": "markdown",
   "metadata": {
    "deletable": false,
    "nbgrader": {
     "cell_type": "markdown",
     "checksum": "2e83d862b3c5fd4fb57d72c50e8115f8",
     "grade": true,
     "grade_id": "c1",
     "locked": false,
     "points": 1,
     "schema_version": 3,
     "solution": true,
     "task": false
    }
   },
   "source": [
    "Đáp án là [d]"
   ]
  },
  {
   "cell_type": "markdown",
   "metadata": {},
   "source": [
    "## Câu 2 (1 điểm)"
   ]
  },
  {
   "cell_type": "markdown",
   "metadata": {},
   "source": [
    "Ta có: $\\delta = 0.05$ , $d_{VC}$ = 50 và N =10000 , $\\epsilon \\geq  0$"
   ]
  },
  {
   "cell_type": "code",
   "execution_count": 3,
   "metadata": {},
   "outputs": [
    {
     "name": "stdout",
     "output_type": "stream",
     "text": [
      "[a] ϵ <= 0.632174915200836\n"
     ]
    }
   ],
   "source": [
    "N = 10000\n",
    "dvc = 50\n",
    "δ = 0.05\n",
    "print(\"[a] ϵ <= {0}\".format(math.sqrt((8/N)*math.log((2**(dvc+2)*N**dvc)/δ))))"
   ]
  },
  {
   "cell_type": "code",
   "execution_count": 4,
   "metadata": {},
   "outputs": [
    {
     "name": "stdout",
     "output_type": "stream",
     "text": [
      "[b] ϵ <= 0.3313087859616395\n"
     ]
    }
   ],
   "source": [
    "print(\"[b] ϵ <= {0}\".format(math.sqrt((2*math.log(2*N*N**dvc))/N) + math.sqrt((2/N)*math.log(1/δ)) + 1/N))"
   ]
  },
  {
   "cell_type": "code",
   "execution_count": 5,
   "metadata": {},
   "outputs": [
    {
     "name": "stdout",
     "output_type": "stream",
     "text": [
      "[c] bất đẳng thức: 1ϵ^2 + -0.0002ϵ + -0.04999618693695885 <= 0\n",
      "[c] ϵ <= 0.2234831014\n"
     ]
    }
   ],
   "source": [
    "print(\"[c] bất đẳng thức: {0}ϵ^2 + {1}ϵ + {2} <= 0\".format(1,-2/N,(-1/N)*math.log((6*2**dvc*N**dvc)/δ)))\n",
    "print(\"[c] ϵ <= {0}\".format(0.2234831014)) # dùng máy tính casio để tính nghiệm "
   ]
  },
  {
   "cell_type": "code",
   "execution_count": 6,
   "metadata": {},
   "outputs": [
    {
     "name": "stdout",
     "output_type": "stream",
     "text": [
      "[d] bất đẳng thức: 0.9998ϵ^2 + -0.0002ϵ + -0.04627080319161461 <= 0\n",
      "[d] ϵ <= 0.2152261827\n"
     ]
    }
   ],
   "source": [
    "print(\"[d] bất đẳng thức: {0}ϵ^2 + {1}ϵ + {2} <= 0\".format(1-2/N,-2/N,(-1/(2*N))*(math.log(4*N**(2*dvc))-math.log(δ))))\n",
    "print(\"[d] ϵ <= {0}\".format(0.2152261827)) # dùng máy tính casio để tính nghiệm "
   ]
  },
  {
   "cell_type": "markdown",
   "metadata": {
    "deletable": false,
    "nbgrader": {
     "cell_type": "markdown",
     "checksum": "47d4e2bb3e4812ef7b37e032a898cfec",
     "grade": true,
     "grade_id": "c2",
     "locked": false,
     "points": 1,
     "schema_version": 3,
     "solution": true,
     "task": false
    }
   },
   "source": [
    "Chặn trên nhỏ nhất của ϵ <= 0.2152261827 với N = 10000\n",
    "\n",
    "Đáp án là: [d]"
   ]
  },
  {
   "cell_type": "markdown",
   "metadata": {},
   "source": [
    "## Câu 3 (1 điểm)"
   ]
  },
  {
   "cell_type": "code",
   "execution_count": 7,
   "metadata": {},
   "outputs": [
    {
     "name": "stdout",
     "output_type": "stream",
     "text": [
      "[a] ϵ <= 13.828161484991483\n"
     ]
    }
   ],
   "source": [
    "N =5\n",
    "print(\"[a] ϵ <= {0}\".format(math.sqrt((8/N)*math.log((2**(dvc+2)*N**dvc)/δ))))"
   ]
  },
  {
   "cell_type": "code",
   "execution_count": 8,
   "metadata": {},
   "outputs": [
    {
     "name": "stdout",
     "output_type": "stream",
     "text": [
      "[b] ϵ <= 7.048776564183685\n"
     ]
    }
   ],
   "source": [
    "print(\"[b] ϵ <= {0}\".format(math.sqrt((2*math.log(2*N*N**dvc))/N) + math.sqrt((2/N)*math.log(1/δ)) + 1/N))"
   ]
  },
  {
   "cell_type": "code",
   "execution_count": 9,
   "metadata": {},
   "outputs": [
    {
     "name": "stdout",
     "output_type": "stream",
     "text": [
      "[c] bất đẳng thức: 1ϵ^2 + -0.4ϵ + -23.983349278496867 <= 0\n",
      "[c] ϵ <= 5.10136\n"
     ]
    }
   ],
   "source": [
    "print(\"[c] bất đẳng thức: {0}ϵ^2 + {1}ϵ + {2} <= 0\".format(1,-2/N,(-1/N)*math.log((6*2**dvc*N**dvc)/δ)))\n",
    "print(\"[c] ϵ <= {0}\".format(5.10136)) # dùng web wolframAlpha giải nghiệm"
   ]
  },
  {
   "cell_type": "code",
   "execution_count": 10,
   "metadata": {},
   "outputs": [
    {
     "name": "stdout",
     "output_type": "stream",
     "text": [
      "[d] bất đẳng thức: 0.6ϵ^2 + -0.4ϵ + -16.532581787808393 <= 0\n",
      "[d] ϵ <= 5.59313\n"
     ]
    }
   ],
   "source": [
    "print(\"[d] bất đẳng thức: {0}ϵ^2 + {1}ϵ + {2} <= 0\".format(1-2/N,-2/N,(-1/(2*N))*(math.log(4*N**(2*dvc))-math.log(δ))))\n",
    "print(\"[d] ϵ <= {0}\".format(5.59313))  # dùng web wolframAlpha giải nghiệm"
   ]
  },
  {
   "cell_type": "markdown",
   "metadata": {
    "deletable": false,
    "nbgrader": {
     "cell_type": "markdown",
     "checksum": "0997a909d9ab1f250c2bfd0645fee970",
     "grade": true,
     "grade_id": "c3",
     "locked": false,
     "points": 1,
     "schema_version": 3,
     "solution": true,
     "task": false
    }
   },
   "source": [
    "Chặn trên nhỏ nhất của ϵ <= 5.10136 với N = 5\n",
    "\n",
    "Đáp án là: [c]"
   ]
  },
  {
   "cell_type": "markdown",
   "metadata": {},
   "source": [
    "## Câu 4 (1 điểm)"
   ]
  },
  {
   "cell_type": "code",
   "execution_count": 68,
   "metadata": {},
   "outputs": [],
   "source": [
    "import numpy as np\n",
    "def generate_dataset(a,N=2): # tạo tập dữ liệu \n",
    "    X = np.random.uniform(-1,1,(N,1)) # phát sinh ngẫu nhiên theo phân phối đều \n",
    "    Y = np.sin(np.pi*X) # f(x) = sin(pi*X)\n",
    "    X = np.hstack((np.ones((N, 1)),X,X**2))\n",
    "    return X[:,a].reshape(N,-1),Y"
   ]
  },
  {
   "cell_type": "code",
   "execution_count": 69,
   "metadata": {},
   "outputs": [],
   "source": [
    "def generate_datasetdraw(a,N=2): # tạo tập dữ liệu \n",
    "    X = np.random.uniform(-1,1,(N,1)) # phát sinh ngẫu nhiên theo phân phối đều \n",
    "    xx = X\n",
    "    Y = np.sin(np.pi*X) # f(x) = sin(pi*X)\n",
    "    X = np.hstack((np.ones((N, 1)),X,X**2))\n",
    "    return X[:,a].reshape(N,-1),Y,xx"
   ]
  },
  {
   "cell_type": "code",
   "execution_count": 136,
   "metadata": {},
   "outputs": [
    {
     "name": "stdout",
     "output_type": "stream",
     "text": [
      "[[ 1.         -0.15131834]\n",
      " [ 1.         -0.86518022]]\n",
      "[[-0.45767687]\n",
      " [-0.41099827]]\n"
     ]
    }
   ],
   "source": [
    "X, Y,aa = generate_datasetdraw([0,1])\n",
    "print(X)\n",
    "print(Y)"
   ]
  },
  {
   "cell_type": "code",
   "execution_count": 137,
   "metadata": {},
   "outputs": [
    {
     "data": {
      "text/plain": [
       "array([[-0.4675714 ],\n",
       "       [-0.06538884]])"
      ]
     },
     "execution_count": 137,
     "metadata": {},
     "output_type": "execute_result"
    }
   ],
   "source": [
    "w=linearRegression(X,Y)\n",
    "w"
   ]
  },
  {
   "cell_type": "code",
   "execution_count": 138,
   "metadata": {},
   "outputs": [],
   "source": [
    "w1 = avaragehypothesis([0,1])"
   ]
  },
  {
   "cell_type": "code",
   "execution_count": 139,
   "metadata": {},
   "outputs": [
    {
     "data": {
      "text/plain": [
       "[<matplotlib.lines.Line2D at 0x1dc45e0d7f0>]"
      ]
     },
     "execution_count": 139,
     "metadata": {},
     "output_type": "execute_result"
    },
    {
     "data": {
      "image/png": "[encoded data removed]",
      "text/plain": [
       "<Figure size 576x396 with 1 Axes>"
      ]
     },
     "metadata": {},
     "output_type": "display_data"
    }
   ],
   "source": [
    "# Trực quan hóa hàm f và 2 điểm dữ liệu được phát sinh ở trên\n",
    "%matplotlib inline\n",
    "import matplotlib.pyplot as plt\n",
    "import numpy as np\n",
    "plt.style.use(\"seaborn\")\n",
    "\n",
    "xx = np.arange(-1, 1, 0.01).reshape(-1, 1)\n",
    "yy = np.sin(np.pi * xx)\n",
    "plt.plot(xx, yy, color=\"black\")\n",
    "# plt.plot(xx,(xx**2)*w,color=\"red\") # [2]\n",
    "# plt.plot(xx,w[0]+(xx**2)*w[1],color=\"red\") # [0,2]\n",
    "# plt.plot(xx,np.tile(w, 200).reshape(200,1),color=\"red\") #[0]\n",
    "# plt.plot(xx,w1[0]+xx*w1[1]+(xx**2)*w1[2],color=\"red\")  # [0,1,2]\n",
    "plt.plot(xx,w1[0]+xx*w1[1],color=\"red\")  # [0,1]\n",
    "plt.plot(aa, Y, \"o\", color=\"blue\")\n",
    "# plt.plot(X, Y, \"o\", color=\"blue\")"
   ]
  },
  {
   "cell_type": "code",
   "execution_count": 84,
   "metadata": {},
   "outputs": [],
   "source": [
    "def linearRegression(X,Y):\n",
    "    X_dagger = np.dot(np.linalg.pinv(np.dot(X.T, X)), X.T) # cực tiểu độ lỗi MSE\n",
    "    w = np.dot(X_dagger, Y)\n",
    "    return w"
   ]
  },
  {
   "cell_type": "code",
   "execution_count": 74,
   "metadata": {},
   "outputs": [],
   "source": [
    "def avaragehypothesis(a=1):\n",
    "    runs =1000\n",
    "    avgH = 0\n",
    "    for i in range(runs):\n",
    "        X,Y = generate_dataset(a)\n",
    "        w = linearRegression(X,Y)\n",
    "        avgH += w*1.0/runs\n",
    "    return avgH        \n"
   ]
  },
  {
   "cell_type": "code",
   "execution_count": 75,
   "metadata": {},
   "outputs": [
    {
     "name": "stdout",
     "output_type": "stream",
     "text": [
      "g_bar(x) =  [[1.39753723]]\n"
     ]
    }
   ],
   "source": [
    "g_bar = avaragehypothesis()\n",
    "print(\"g_bar(x) = \",g_bar)"
   ]
  },
  {
   "cell_type": "markdown",
   "metadata": {
    "deletable": false,
    "nbgrader": {
     "cell_type": "markdown",
     "checksum": "efabab5c4035a6864ac8cb3e0061c6f0",
     "grade": true,
     "grade_id": "c4",
     "locked": false,
     "points": 1,
     "schema_version": 3,
     "solution": true,
     "task": false
    }
   },
   "source": [
    "Đáp án là [e]"
   ]
  },
  {
   "cell_type": "markdown",
   "metadata": {},
   "source": [
    "## Câu 5 (1 điểm)"
   ]
  },
  {
   "cell_type": "code",
   "execution_count": 76,
   "metadata": {},
   "outputs": [],
   "source": [
    "def avgbias():\n",
    "    runs =1000  # tạo ngẫu nhiên 2 mẫu dữ liệu 1000 lần\n",
    "    avgBias = 0  # giá trị bias trung bình\n",
    "    avgH = avaragehypothesis()# xác định g_bar hàm mục tiêu trung bình h(x) = ax \n",
    "    for i in range(runs):\n",
    "        X,Y = generate_dataset(1)  # phát sinh dữ liệu \n",
    "        Bias = np.mean(np.power(np.multiply(avgH,X)-Y,2)) # tính bias độ lệch so với hàm mục tiêu f(x) = sin(pi*x)\n",
    "        # E|(g_bar*X - Y)**2|\n",
    "        avgBias += Bias/runs # cập nhật bias\n",
    "    return avgBias"
   ]
  },
  {
   "cell_type": "code",
   "execution_count": 77,
   "metadata": {},
   "outputs": [
    {
     "name": "stdout",
     "output_type": "stream",
     "text": [
      "Giá trị Bias =  0.27443674767348736\n"
     ]
    }
   ],
   "source": [
    "print(\"Giá trị Bias = \",avgbias())"
   ]
  },
  {
   "cell_type": "markdown",
   "metadata": {
    "deletable": false,
    "nbgrader": {
     "cell_type": "markdown",
     "checksum": "0b484b8390bec96142e8a1213ee8cd2c",
     "grade": true,
     "grade_id": "c5",
     "locked": false,
     "points": 1,
     "schema_version": 3,
     "solution": true,
     "task": false
    }
   },
   "source": [
    "Đáp án là: [b]"
   ]
  },
  {
   "cell_type": "markdown",
   "metadata": {},
   "source": [
    "## Câu 6 (1 điểm)"
   ]
  },
  {
   "cell_type": "code",
   "execution_count": 78,
   "metadata": {},
   "outputs": [],
   "source": [
    "def avgVar():\n",
    "    runs = 1000\n",
    "    avgVar = 0 # giá trị variance trung bình\n",
    "    avgH = avaragehypothesis() # xác định g_bar hàm mục tiêu trung bình h(x) = ax \n",
    "    for i in range(runs):\n",
    "        X,Y = generate_dataset(1)\n",
    "        w = linearRegression(X,Y)\n",
    "        var = np.mean((w*X - avgH*X)**2) #tính variance = E|(g(x)*X - g_bar*X)**2|\n",
    "        avgVar += var/runs # cập nhật bias\n",
    "    return avgVar"
   ]
  },
  {
   "cell_type": "code",
   "execution_count": 79,
   "metadata": {},
   "outputs": [
    {
     "name": "stdout",
     "output_type": "stream",
     "text": [
      "Giá trị variance =  0.20322638174620847\n"
     ]
    }
   ],
   "source": [
    "print(\"Giá trị variance = \",avgVar())"
   ]
  },
  {
   "cell_type": "markdown",
   "metadata": {
    "deletable": false,
    "nbgrader": {
     "cell_type": "markdown",
     "checksum": "26f542221236fb24d0ddbee584eed7d0",
     "grade": true,
     "grade_id": "c6",
     "locked": false,
     "points": 1,
     "schema_version": 3,
     "solution": true,
     "task": false
    }
   },
   "source": [
    "Đáp án là [a]"
   ]
  },
  {
   "cell_type": "markdown",
   "metadata": {},
   "source": [
    "## Câu 7 (1 điểm)"
   ]
  },
  {
   "cell_type": "code",
   "execution_count": 93,
   "metadata": {},
   "outputs": [],
   "source": [
    "def Eout(H): \n",
    "    runs = 1000\n",
    "    avgvar = 0\n",
    "    avgbias = 0\n",
    "    Eout = 0\n",
    "    avgH = avaragehypothesis(H) # xác định g_bar hàm mục tiêu trung bình  \n",
    "    for i in range(runs):\n",
    "        X,Y = generate_dataset(H) # tạo 2 mẫu dữ liệu , với tham số loại tập Hypothesis\n",
    "        w = linearRegression(X,Y) # xác định g(x)\n",
    "        bias = np.mean(np.power(np.dot(X,avgH)-Y,2)) # tính bias\n",
    "        var = np.mean(np.power(np.dot(X,w) - np.dot(X,avgH),2)) # tính variance\n",
    "        v = var/runs\n",
    "        b = bias/runs\n",
    "        avgvar += v\n",
    "        avgbias += b\n",
    "        Eout += v + b # Eout bằng tổng bias và variance\n",
    "    return Eout, avgbias,avgvar"
   ]
  },
  {
   "cell_type": "code",
   "execution_count": 96,
   "metadata": {},
   "outputs": [
    {
     "name": "stdout",
     "output_type": "stream",
     "text": [
      "[a] Hypothesis của h(x) = b: Eout = 0.729606450458284\n",
      "[b] Hypothesis của h(x) = ax: Eout = 0.4873742036693277\n",
      "[c] Hypothesis của h(x) = ax + b : Eout = 0.4186759238475018\n",
      "[d] Hypothesis của h(x) = ax2 : Eout = 0.7796339196589537\n",
      "[e] Hypothesis của h(x) = ax2 + b : Eout = 2227.358535334992\n"
     ]
    }
   ],
   "source": [
    "# lấy vị trí thứ 0 để xuất ra Eout\n",
    "# tham số truyền vào là cột cần lấy theo format X(1,x1,x1^2) tương ứng với Tập Hypothesis h(x)\n",
    "print(\"[a] Hypothesis của h(x) = b: Eout =\",Eout(0)[0]) \n",
    "print(\"[b] Hypothesis của h(x) = ax: Eout =\",Eout(1)[0])\n",
    "print(\"[c] Hypothesis của h(x) = ax + b : Eout =\",Eout([0,1])[0])\n",
    "print(\"[d] Hypothesis của h(x) = ax2 : Eout =\",Eout(2)[0])\n",
    "print(\"[e] Hypothesis của h(x) = ax2 + b : Eout =\",Eout([0,2])[0])"
   ]
  },
  {
   "cell_type": "code",
   "execution_count": 98,
   "metadata": {},
   "outputs": [
    {
     "data": {
      "text/plain": [
       "(0.398353710848867, 0.1991768554244358, 0.19917685542443128)"
      ]
     },
     "execution_count": 98,
     "metadata": {},
     "output_type": "execute_result"
    }
   ],
   "source": [
    "Eout([0,1,2])"
   ]
  },
  {
   "cell_type": "markdown",
   "metadata": {
    "deletable": false,
    "nbgrader": {
     "cell_type": "markdown",
     "checksum": "322a244b0fae3a20ec568a5099aaaec1",
     "grade": true,
     "grade_id": "c7",
     "locked": false,
     "points": 1,
     "schema_version": 3,
     "solution": true,
     "task": false
    }
   },
   "source": [
    "Đáp án là [b]"
   ]
  },
  {
   "cell_type": "markdown",
   "metadata": {},
   "source": [
    "## Câu 8 (1 điểm)"
   ]
  },
  {
   "cell_type": "markdown",
   "metadata": {},
   "source": [
    "Với $ q \\geq  1 $ và $ m_{H}(1) = 2$ để thỏa mãn:\n",
    "$$ m_{H}(N+1) = 2*m_{H}(N) - \\binom{N}{q} \\tag{1}$$ \n",
    "Giả sử nếu $m_{H}(N+1) = 2^{N+1}$ thì $m_{H}(N) = 2^N$ và đặt $ M = N +1$ ta được:\n",
    "$$(1) \\Rightarrow  m_{H}(M) = 2^M - \\binom{M-1}{q} $$ \n",
    "$ \\Rightarrow \\binom{M-1}{q} = 0 \\Rightarrow  M < q +1$ hay $M \\leq q$\n",
    "\n",
    "Do đó: $d_{vc}(H) = q$"
   ]
  },
  {
   "cell_type": "markdown",
   "metadata": {
    "deletable": false,
    "nbgrader": {
     "cell_type": "markdown",
     "checksum": "d81773f072cd15e4a27b6cd240a5d990",
     "grade": true,
     "grade_id": "c8",
     "locked": false,
     "points": 1,
     "schema_version": 3,
     "solution": true,
     "task": false
    }
   },
   "source": [
    "Đáp án là [c]"
   ]
  },
  {
   "cell_type": "markdown",
   "metadata": {},
   "source": [
    "## Câu 9 (1 điểm)"
   ]
  },
  {
   "cell_type": "markdown",
   "metadata": {},
   "source": [
    "Tập $ \\bigcap_{k=1}^{K}H_{k}$ nhỏ hơn hoặc bằng tất cả bộ hypothesis {$H_{1},H_{2},...,H_{k}$} Do đó:\n",
    "\n",
    "Với $1\\leq i \\leq  k$ ta được:\n",
    "$$ d_{vc}(\\bigcap_{k}^{k=1}H_{k}) \\leq d_{vc}(H_{i})$$\n",
    "$$ \\Leftrightarrow  d_{vc}(\\bigcap_{k}^{k=1}H_{k}) \\leq min\\{ d_{vc}(H_{i})\\} \\tag{2} $$\n",
    "* Trường hợp xấu nhất có thể xảy ra: $ \\bigcap_{k=1}^{K}H_{k} = \\varnothing  \\Rightarrow d_{vc}(\\bigcap_{k=1}^{K}H_{k}) = 0 \\tag{3}$\n",
    "\n",
    "Vậy từ $(2)$ và $(3)$ ràng buộc chặt nhất có thể là: $ 0 \\leq d_{vc}(\\bigcap_{k=1}^{K}H_{k}) \\leq min\\{ d_{vc}(H_{i})\\}_{k=1}^{K}$"
   ]
  },
  {
   "cell_type": "markdown",
   "metadata": {
    "deletable": false,
    "nbgrader": {
     "cell_type": "markdown",
     "checksum": "e814a2db0b8a53e4fddfee4bcbf405fc",
     "grade": true,
     "grade_id": "c9",
     "locked": false,
     "points": 1,
     "schema_version": 3,
     "solution": true,
     "task": false
    }
   },
   "source": [
    "Đáp án là [b]"
   ]
  },
  {
   "cell_type": "markdown",
   "metadata": {},
   "source": [
    "## Câu 10 (1 điểm)"
   ]
  },
  {
   "cell_type": "markdown",
   "metadata": {},
   "source": [
    "Tập $ \\bigcup_{k=1}^{K}H_{k}$ (hợp của tất cả tập hypothesis) lớn hơn hoặc bằng tất cả bộ hypothesis {$H_{1},H_{2},...,H_{k}$}\n",
    "\n",
    "Do đó: $ d_{vc}(\\bigcup_{k=1}^{K}H_{k})$ tối thiểu là $d_{vc}$ lớn nhất trong tất cả hypothesis {$H_{1},H_{2},...,H_{k}$}  \n",
    "$$ \\Leftrightarrow max\\{ d_{vc}(H_{i})\\}_{k=1}^{K}  \\leq  d_{vc}(\\bigcup_{k=1}^{K}H_{k}) \\tag{4}$$"
   ]
  },
  {
   "cell_type": "markdown",
   "metadata": {
    "deletable": false,
    "nbgrader": {
     "cell_type": "markdown",
     "checksum": "41cbf5c6d2b94eeae0a712be2181fef6",
     "grade": true,
     "grade_id": "c10",
     "locked": false,
     "points": 1,
     "schema_version": 3,
     "solution": true,
     "task": false
    }
   },
   "source": [
    "Đáp án là: [e]"
   ]
  }
 ],
 "metadata": {
  "kernelspec": {
   "display_name": "Python 3",
   "language": "python",
   "name": "python3"
  },
  "language_info": {
   "codemirror_mode": {
    "name": "ipython",
    "version": 3
   },
   "file_extension": ".py",
   "mimetype": "text/x-python",
   "name": "python",
   "nbconvert_exporter": "python",
   "pygments_lexer": "ipython3",
   "version": "3.8.0"
  },
  "toc": {
   "base_numbering": 1,
   "nav_menu": {},
   "number_sections": true,
   "sideBar": true,
   "skip_h1_title": false,
   "title_cell": "Table of Contents",
   "title_sidebar": "Contents",
   "toc_cell": false,
   "toc_position": {},
   "toc_section_display": true,
   "toc_window_display": false
  },
  "varInspector": {
   "cols": {
    "lenName": 16,
    "lenType": 16,
    "lenVar": 40
   },
   "kernels_config": {
    "python": {
     "delete_cmd_postfix": "",
     "delete_cmd_prefix": "del ",
     "library": "var_list.py",
     "varRefreshCmd": "print(var_dic_list())"
    },
    "r": {
     "delete_cmd_postfix": ") ",
     "delete_cmd_prefix": "rm(",
     "library": "var_list.r",
     "varRefreshCmd": "cat(var_dic_list()) "
    }
   },
   "types_to_exclude": [
    "module",
    "function",
    "builtin_function_or_method",
    "instance",
    "_Feature"
   ],
   "window_display": false
  }
 },
 "nbformat": 4,
 "nbformat_minor": 4
}
