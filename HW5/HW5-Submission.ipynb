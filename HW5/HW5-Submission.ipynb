{
 "cells": [
  {
   "cell_type": "markdown",
   "metadata": {},
   "source": [
    "# Bài tập 5\n",
    "\n",
    "Nguyễn Trọng Nghĩa - 1712615"
   ]
  },
  {
   "cell_type": "markdown",
   "metadata": {},
   "source": [
    "## Câu 1 (1 điểm)"
   ]
  },
  {
   "cell_type": "markdown",
   "metadata": {},
   "source": [
    "Theo đề bài: $$\\sigma^2(1 - \\frac{d+1}{N}) > 0.008$$ $$\\Rightarrow N > \\frac{d+1}{1-\\frac{0.008}{\\sigma^2}}$$"
   ]
  },
  {
   "cell_type": "code",
   "execution_count": 1,
   "metadata": {},
   "outputs": [
    {
     "name": "stdout",
     "output_type": "stream",
     "text": [
      "N > 44.99999999999996\n"
     ]
    }
   ],
   "source": [
    "σ = 0.1\n",
    "d =8\n",
    "Ein = 0.008\n",
    "N = (d+1)/(1 - (Ein/σ**2))\n",
    "print(\"N > {0}\".format(N))"
   ]
  },
  {
   "cell_type": "markdown",
   "metadata": {
    "deletable": false,
    "nbgrader": {
     "cell_type": "markdown",
     "checksum": "2e83d862b3c5fd4fb57d72c50e8115f8",
     "grade": true,
     "grade_id": "c1",
     "locked": false,
     "points": 1,
     "schema_version": 3,
     "solution": true,
     "task": false
    }
   },
   "source": [
    "Do đó kết quả phù hợp thõa mãn là với N = 100\n",
    "\n",
    "Đáp án là: [c]"
   ]
  },
  {
   "cell_type": "markdown",
   "metadata": {},
   "source": [
    "## Câu 2 (1 điểm)"
   ]
  },
  {
   "cell_type": "markdown",
   "metadata": {},
   "source": [
    "Phép nonlinear transform được cho trong đề bài là phép ánh xạ từ không gian $\\mathcal{X}$ hai chiều (chưa tính $x_0=1$) sang không gian $\\mathcal{Z}$ hai chiều (chưa tính $z_0=1$): $$\\Phi(1, x_1, x_2) = (1, x_1^2, x_2^2)$$\n",
    "Với phép transform này thì tập hypothesis của mô hình phân lớp tuyến tính (Perceptron) sẽ gồm các hypothesis có dạng: $$h(\\mathbf{x})=sign(\\tilde{w}_0 + \\tilde{w}_1 x_1^2 + \\tilde{w}_2 x_2^2)$$ \n",
    "- Ta có: $h(\\mathbf{x}) = sign(\\tilde{w}_0 + \\tilde{w}_1 x_1^2 + \\tilde{w}_2 x_2^2)$\n",
    "- Khi $x_1$ siêu âm hoặc siêu dương thì $x_1^2$ sẽ dương và rất lớn, và  $\\tilde{w}_1 x_1^2$ sẽ là đại lượng quyết định dấu của tổng trong công thức ở trên. Do $x_1^2$ dương nên $\\tilde{w}_1$ sẽ quyết định dấu của $\\tilde{w}_1 x_1^2$ Mà theo hình thì h(x) = -1 do đó $\\tilde{w}_1 < 0 \\tag{1}$.\n",
    "\n",
    "- Tương tự với $x_2$. Khi $x_2$ siêu âm hoặc siêu dương thì $x_2^2$ sẽ dương và rất lớn, và  $\\tilde{w}_2 x_2^2$ sẽ là đại lượng quyết định dấu của tổng trong công thức ở trên. Do $x_2^2$ dương nên $\\tilde{w}_2$ sẽ quyết định dấu của $\\tilde{w}_2 x_2^2$ Mà theo hình thì h(x) = +1 do đó $\\tilde{w}_1 > 0 \\tag{2}$.\n",
    "\n",
    "Từ (1) và (2) kết luận $\\tilde{w}_1 < 0 ,\\tilde{w}_1 > 0$ thõa mãn."
   ]
  },
  {
   "cell_type": "markdown",
   "metadata": {
    "deletable": false,
    "nbgrader": {
     "cell_type": "markdown",
     "checksum": "47d4e2bb3e4812ef7b37e032a898cfec",
     "grade": true,
     "grade_id": "c2",
     "locked": false,
     "points": 1,
     "schema_version": 3,
     "solution": true,
     "task": false
    }
   },
   "source": [
    "Đáp án là [d]"
   ]
  },
  {
   "cell_type": "markdown",
   "metadata": {},
   "source": [
    "## Câu 3 (1 điểm)"
   ]
  },
  {
   "cell_type": "markdown",
   "metadata": {},
   "source": [
    "Không gian Perceptron 2 Chiều: có $d_{vc}  = 3$ (tương ứng d+1 chiều)\n",
    "\n",
    "Thì trong không gian chuyển đổi bậc 4 $\\Phi_{4}$ của Perceptron 2 chiều: Có $d_{vc} \\leq  \\tilde{d}+1$ ( trong đó $\\tilde{d} = 14$ số chiều của không gian chuyển đổi bậc 4) $\\Rightarrow  d_{vc} \\leq  15$ "
   ]
  },
  {
   "cell_type": "markdown",
   "metadata": {
    "deletable": false,
    "nbgrader": {
     "cell_type": "markdown",
     "checksum": "0997a909d9ab1f250c2bfd0645fee970",
     "grade": true,
     "grade_id": "c3",
     "locked": false,
     "points": 1,
     "schema_version": 3,
     "solution": true,
     "task": false
    }
   },
   "source": [
    "Đáp án là: [c]"
   ]
  },
  {
   "cell_type": "markdown",
   "metadata": {},
   "source": [
    "## Câu 4 (1 điểm)"
   ]
  },
  {
   "cell_type": "markdown",
   "metadata": {},
   "source": [
    "Xét hàm lỗi phi tuyến: $$E(u,v) = (ue^v -2ve^{-u})^2$$\n",
    "$$\\frac{\\partial E}{\\partial u}= 2(ue^v -2ve^{-u})(e^v +2ve^{-u}) $$"
   ]
  },
  {
   "cell_type": "markdown",
   "metadata": {
    "deletable": false,
    "nbgrader": {
     "cell_type": "markdown",
     "checksum": "efabab5c4035a6864ac8cb3e0061c6f0",
     "grade": true,
     "grade_id": "c4",
     "locked": false,
     "points": 1,
     "schema_version": 3,
     "solution": true,
     "task": false
    }
   },
   "source": [
    "Đáp án là [e]"
   ]
  },
  {
   "cell_type": "markdown",
   "metadata": {},
   "source": [
    "## Câu 5 (1 điểm)"
   ]
  },
  {
   "cell_type": "code",
   "execution_count": 2,
   "metadata": {},
   "outputs": [],
   "source": [
    "import numpy as np\n",
    "import math\n",
    "wstart = np.ones(2).reshape(-1,1) # Khởi tạo điểm bắt đầu tương ứng với (u,v) có shape= (2,1)"
   ]
  },
  {
   "cell_type": "code",
   "execution_count": 3,
   "metadata": {},
   "outputs": [],
   "source": [
    "def Gradientdescent(w,gradient = 0): # tính gradientdescent\n",
    "    GD = []\n",
    "    if gradient == 0: # đạo hàm riêng theo cả 2 chiều u và v\n",
    "        du = 2*(w[0]*1.0*math.exp(w[1]) -2*w[1]*1.0*math.exp(-w[0]))*(math.exp(w[1])+2*w[1]*1.0*math.exp(-w[0]))\n",
    "        dv = 2*(w[0]*1.0*math.exp(w[1]) -2*w[1]*1.0*math.exp(-w[0]))*(w[0]*1.0*math.exp(w[1])- 2*math.exp(-w[0]))\n",
    "    elif gradient == 1: # đạo hàm riêng theo chiều u\n",
    "        du = 2*(w[0]*1.0*math.exp(w[1]) -2*w[1]*1.0*math.exp(-w[0]))*(math.exp(w[1])+2*w[1]*1.0*math.exp(-w[0]))\n",
    "        dv = w[1] - w[1]\n",
    "    else: # đạo hàm riêng theo chiều v\n",
    "        du = w[0] - w[0]\n",
    "        dv = 2*(w[0]*1.0*math.exp(w[1]) -2*w[1]*1.0*math.exp(-w[0]))*(w[0]*1.0*math.exp(w[1])- 2*math.exp(-w[0]))\n",
    "    GD.append(du)\n",
    "    GD.append(dv)\n",
    "    return np.array(GD).reshape(-1,1)"
   ]
  },
  {
   "cell_type": "code",
   "execution_count": 4,
   "metadata": {},
   "outputs": [],
   "source": [
    "def Error(w): # hàm tính độ lỗi tại w\n",
    "    return (w[0]*math.exp(w[1]) -2*w[1]*math.exp(-w[0]))**2"
   ]
  },
  {
   "cell_type": "code",
   "execution_count": 5,
   "metadata": {},
   "outputs": [],
   "source": [
    "def MinError(w, n =0.1): # hàm cực tiểu độ lỗi\n",
    "    GD = Gradientdescent(w)\n",
    "    Er =  Error(w)\n",
    "    interation = 0 # số lần cập nhật w tương ứng với cập nhật tọa độ điểm.\n",
    "    while(Er >= 10**-14): # nếu độ lỗi >= 10^-14 thì kết thúc\n",
    "        GD = Gradientdescent(w) # tính gradientdescent\n",
    "        w = w - n*GD # cập nhật tọa độ điểm mới \n",
    "        Er =  Error(w) # tính độ lỗi tại điểm mới (w)\n",
    "        interation +=1 # tăng số lần cập nhật lên 1\n",
    "    return interation, w"
   ]
  },
  {
   "cell_type": "code",
   "execution_count": 6,
   "metadata": {},
   "outputs": [
    {
     "name": "stdout",
     "output_type": "stream",
     "text": [
      "Số lần cập nhật là:  10\n"
     ]
    }
   ],
   "source": [
    "interations ,w = MinError(wstart, 0.1) # trả về số lần cập nhật , và w \n",
    "print(\"Số lần cập nhật là: \",interations)"
   ]
  },
  {
   "cell_type": "markdown",
   "metadata": {
    "deletable": false,
    "nbgrader": {
     "cell_type": "markdown",
     "checksum": "0b484b8390bec96142e8a1213ee8cd2c",
     "grade": true,
     "grade_id": "c5",
     "locked": false,
     "points": 1,
     "schema_version": 3,
     "solution": true,
     "task": false
    }
   },
   "source": [
    "Đáp án là [d]"
   ]
  },
  {
   "cell_type": "markdown",
   "metadata": {},
   "source": [
    "## Câu 6 (1 điểm)"
   ]
  },
  {
   "cell_type": "code",
   "execution_count": 7,
   "metadata": {},
   "outputs": [
    {
     "name": "stdout",
     "output_type": "stream",
     "text": [
      "Cặp (u,v) cuối cùng là: (u,v) = ([0.04473629],[0.02395871])\n"
     ]
    }
   ],
   "source": [
    "print(\"Cặp (u,v) cuối cùng là: (u,v) = ({0},{1})\".format(w[0],w[1]))"
   ]
  },
  {
   "cell_type": "markdown",
   "metadata": {
    "deletable": false,
    "nbgrader": {
     "cell_type": "markdown",
     "checksum": "26f542221236fb24d0ddbee584eed7d0",
     "grade": true,
     "grade_id": "c6",
     "locked": false,
     "points": 1,
     "schema_version": 3,
     "solution": true,
     "task": false
    }
   },
   "source": [
    "Đáp án là [e]"
   ]
  },
  {
   "cell_type": "markdown",
   "metadata": {},
   "source": [
    "## Câu 7 (1 điểm)"
   ]
  },
  {
   "cell_type": "code",
   "execution_count": 8,
   "metadata": {},
   "outputs": [],
   "source": [
    "def Minerrorgradient(w,n =0.1):\n",
    "    interation =15 # số lần cập nhật theo 2 bước\n",
    "    Er = 0\n",
    "    for _ in range(interation): # thực hiện tính gradientdescent theo 2 bước\n",
    "        GDu = Gradientdescent(w, 1) # đạo hàm riêng chiều u\n",
    "        w = w - n*GDu # cập nhật điểm dọc theo tạo độ u\n",
    "        GDv = Gradientdescent(w, 2) # đạo hàm riêng chiều v\n",
    "        w = w - n*GDv # tiếp tục cập nhật điểm dọc theo tạo độ v\n",
    "        Er = Error(w) # tính độ lỗi sau 2 bước di chuyển\n",
    "#         if Error(wu) >= Error(wv):\n",
    "#             Er = Error(wv)\n",
    "#             w = wv\n",
    "#         else:\n",
    "#             Er = Error(wu)\n",
    "#             w = wu\n",
    "    return w,Er"
   ]
  },
  {
   "cell_type": "code",
   "execution_count": 9,
   "metadata": {},
   "outputs": [
    {
     "name": "stdout",
     "output_type": "stream",
     "text": [
      "Độ lỗi E(u,v):  [0.13981379]\n"
     ]
    }
   ],
   "source": [
    "w,E = Minerrorgradient(wstart,0.1) #trả về tạo độ điểm (u,v) và Độ lỗi sau 15 lần lặp.\n",
    "print(\"Độ lỗi E(u,v): \",E)"
   ]
  },
  {
   "cell_type": "markdown",
   "metadata": {
    "deletable": false,
    "nbgrader": {
     "cell_type": "markdown",
     "checksum": "322a244b0fae3a20ec568a5099aaaec1",
     "grade": true,
     "grade_id": "c7",
     "locked": false,
     "points": 1,
     "schema_version": 3,
     "solution": true,
     "task": false
    }
   },
   "source": [
    "Kết quả E(u,v) $\\approx 10^{-1}$\n",
    "\n",
    "Đáp án là [a]"
   ]
  },
  {
   "cell_type": "markdown",
   "metadata": {},
   "source": [
    "## Câu 8 (1 điểm)"
   ]
  },
  {
   "cell_type": "code",
   "execution_count": 10,
   "metadata": {},
   "outputs": [],
   "source": [
    "def generate_data(N,target_w): # Khởi tạo tập dữ liệu theo hàm mục tiêu target_w\n",
    "    bad_data =True\n",
    "    while bad_data:\n",
    "        X = np.random.uniform(-1,1,(N,2)) # khởi tạo điểm ngẫu nhiên theo phân phối đều\n",
    "        X = np.hstack((np.ones((N,1)),X))\n",
    "        Y = np.sign(np.dot(X,target_w)) # tính Y với giá trị được khởi tạo\n",
    "        if (0 not in Y): # Dữ liệu không nằm trên hàm mục tiêu thì kết thúc.\n",
    "            bad_data = False\n",
    "#     Y = np.where(Y==-1,0,Y)\n",
    "    return X,Y    #X.shape(N,3) và Y.shape(N,1)"
   ]
  },
  {
   "cell_type": "code",
   "execution_count": 11,
   "metadata": {},
   "outputs": [],
   "source": [
    "def generate_target(): # khởi tạo hàm mục tiêu từ 2 điểm tạo ngẫu nhiên  \n",
    "    p1 = np.random.uniform(-1,1,2)\n",
    "    p2 = np.random.uniform(-1,1,2)\n",
    "    target_w = np.array([p1[1]*p2[0]-p2[1]*p1[0],p2[1]-p1[1],p1[0]-p2[0]]).reshape(-1,1)\n",
    "    return target_w # shape(3,1)"
   ]
  },
  {
   "cell_type": "code",
   "execution_count": 12,
   "metadata": {},
   "outputs": [],
   "source": [
    "def logisticregression(X,Y,n=0.01): # thuật toán logisticregression sử dụng stochastic gradient descent để tìm g\n",
    "    w = np.zeros((3,1)) # khởi tạo w = 0 ban đầu với shape(3,1)\n",
    "    n_epoch = 0 # bộ đếm số epoch\n",
    "    N = X.shape[0]\n",
    "    while True:\n",
    "        previous_w = np.copy(w) # tạo một bản sao của w khi w thay đổi \n",
    "        minibatch = np.random.permutation(N) # ngẫu nhiên thứ tự cặp giá trị trong 1 epoch\n",
    "        for idx in minibatch: # vòng lặp mỗi mẫu dữ liệu\n",
    "            gdbatch = -(Y[idx]*X[idx])/(1+math.exp(np.dot(Y[idx]*w.T,X[idx]))) # tính đạo hàm riêng trên mỗi mẫu dữ liệu\n",
    "            w = w - n*gdbatch.reshape(-1,1) # cập nhật w \n",
    "        n_epoch += 1 # tăng số lượng epoch thực hiện\n",
    "        if (np.absolute(np.linalg.norm(w) - np.linalg.norm(previous_w)) < 0.01 ):# kết thức khi ||previous-w -w|| < 0.01\n",
    "            break\n",
    "    return w, n_epoch # trả về w và số epoch"
   ]
  },
  {
   "cell_type": "code",
   "execution_count": 13,
   "metadata": {},
   "outputs": [],
   "source": [
    "def crossentropy(N =100): # tính cross entropy\n",
    "    targetw = generate_target()\n",
    "    X,Y = generate_data(N,targetw)\n",
    "    w ,n_epoch = logisticregression(X,Y)\n",
    "    # huấn luyện trên N bộ dữ liệu để có w\n",
    "    \n",
    "    X_test,Y_test = generate_data(N,targetw) # phát sinh dữ liệu test với hàm mục tiêu đã train\n",
    "    Eout = 0\n",
    "    for i in range(N): # tính tổng độ lỗi trên tập test với mỗi mẫu dữ liệu\n",
    "        Eout += math.log(1+math.exp(np.dot(-Y_test[i]*w.T,X_test[i])))/N\n",
    "    return Eout # trả về độ lỗi "
   ]
  },
  {
   "cell_type": "code",
   "execution_count": 14,
   "metadata": {},
   "outputs": [],
   "source": [
    "def avg(): # tính trung số epoch và w với 100 lần chạy\n",
    "    runs =100\n",
    "    N = 100\n",
    "    avgw = 0\n",
    "    avgepoch =0\n",
    "    avgEout = 0\n",
    "    for i in range(runs): \n",
    "        # tính số epoch và w\n",
    "        targetw = generate_target()\n",
    "        X,Y = generate_data(N,targetw)\n",
    "        w ,n_epoch = logisticregression(X,Y)\n",
    "        avgw += w*1.0/runs\n",
    "        avgepoch += n_epoch*1.0/runs\n",
    "        \n",
    "    return avgw,avgepoch"
   ]
  },
  {
   "cell_type": "code",
   "execution_count": 15,
   "metadata": {},
   "outputs": [],
   "source": [
    "w, n_epoch = avg()"
   ]
  },
  {
   "cell_type": "code",
   "execution_count": 18,
   "metadata": {},
   "outputs": [
    {
     "name": "stdout",
     "output_type": "stream",
     "text": [
      "Độ lỗi trên tập test Eout = 0.12111723865583156\n"
     ]
    }
   ],
   "source": [
    "print(\"Độ lỗi trên tập test Eout =\",crossentropy())"
   ]
  },
  {
   "cell_type": "markdown",
   "metadata": {
    "deletable": false,
    "nbgrader": {
     "cell_type": "markdown",
     "checksum": "d81773f072cd15e4a27b6cd240a5d990",
     "grade": true,
     "grade_id": "c8",
     "locked": false,
     "points": 1,
     "schema_version": 3,
     "solution": true,
     "task": false
    }
   },
   "source": [
    "Đáp án là [d]"
   ]
  },
  {
   "cell_type": "markdown",
   "metadata": {},
   "source": [
    "## Câu 9 (1 điểm)"
   ]
  },
  {
   "cell_type": "code",
   "execution_count": 17,
   "metadata": {},
   "outputs": [
    {
     "name": "stdout",
     "output_type": "stream",
     "text": [
      "Số lượng epoch trung bình sau 100 lần thực hiện là:  355.16999999999985\n"
     ]
    }
   ],
   "source": [
    "print(\"Số lượng epoch trung bình sau 100 lần thực hiện là: \",n_epoch)"
   ]
  },
  {
   "cell_type": "markdown",
   "metadata": {
    "deletable": false,
    "nbgrader": {
     "cell_type": "markdown",
     "checksum": "e814a2db0b8a53e4fddfee4bcbf405fc",
     "grade": true,
     "grade_id": "c9",
     "locked": false,
     "points": 1,
     "schema_version": 3,
     "solution": true,
     "task": false
    }
   },
   "source": [
    "Đáp án là [a]"
   ]
  },
  {
   "cell_type": "markdown",
   "metadata": {},
   "source": [
    "## Câu 10 (1 điểm)"
   ]
  },
  {
   "cell_type": "markdown",
   "metadata": {},
   "source": [
    "Với PLA chúng ta sẽ cập nhật w sau những vòng lặp $w = w + y_{n}x_{n}$\n",
    "\n",
    "Ta có :\n",
    "Phân lớp sai khi $y_{n} \\neq  w^Tx_{n}$ tương ứng với sẽ cập nhật w và phân lớp đúng khi $y_{n} = w^Tx_{n}$ tương ứng w không đổi.\n",
    "\n",
    "Đối với SGD có $w = w - \\eta  \\triangledown e(n)$ \n",
    "\n",
    "Xét $\\eta = 1$ để SGD thực hiện giống PLA thì $\\triangledown e(n) = -y_{n}x_{n} $  cho những điểm phân lớp sai và $\\triangledown e(n) = 0 $ khi phân lớp đúng. \n",
    "\n",
    "* Xét câu [a] \n",
    "\n",
    "Đạo hàm riêng : $\\triangledown e(n) = -y_{n}x_{n}e^{-y_{n}w^Tx_{n}}$\n",
    "Khi phân lớp đúng hoặc sai đều có $\\triangledown e(n)$ không được như mong muốn do đó không giống PLA.\n",
    "\n",
    "* Xét câu [b]\n",
    "\n",
    "Đạo hàm riêng: $\\triangledown e(n) = -y_{n}x_{n}$ . Khi phân lớp đúng hoặc sai đều có $\\triangledown e(n)$ như nhau do đó không giống PLA.\n",
    "\n",
    "* Xét câu [c]\n",
    "\n",
    "Đạo hàm riêng: $\\triangledown e(n) = -2(y_{n}-w^Tx_{n})x_{n}$. Khi phân lớp đúng hoặc sai đều có $\\triangledown e(n)$ không được như mong muốn do đó không giống PLA.\n",
    "* Xét câu [d]\n",
    "\n",
    "Đạo hàm riêng: $\\triangledown e(n) = \\frac{-y_{n}x_{n}}{1+e^{y_{n}w^Tx_{n}}}$. Khi phân lớp đúng hoặc sai đều có $\\triangledown e(n)$ không được như mong muốn do đó không giống PLA.\n",
    "\n",
    "* Xét câu [e] \n",
    "\n",
    "Chúng ta thấy khi phân lớp đúng $min(0,y_{n}w^Tx_{n}) = 0$ tương ứng với ta có $\\triangledown e(n) = 0 $. \n",
    "\n",
    "Khi phân lớp sai $min(0,y_{n}w^Tx_{n}) = y_{n}w^Tx_{n}$ tương ứng với ta có $\\triangledown e(n) = -y_{n}x_{n} $.\n",
    "\n",
    "$ \\Rightarrow$  [e] hoàn toàn giống với thuật toán PLA\n"
   ]
  },
  {
   "cell_type": "markdown",
   "metadata": {
    "deletable": false,
    "nbgrader": {
     "cell_type": "markdown",
     "checksum": "41cbf5c6d2b94eeae0a712be2181fef6",
     "grade": true,
     "grade_id": "c10",
     "locked": false,
     "points": 1,
     "schema_version": 3,
     "solution": true,
     "task": false
    }
   },
   "source": [
    "Đáp án là [e]"
   ]
  }
 ],
 "metadata": {
  "kernelspec": {
   "display_name": "Python 3",
   "language": "python",
   "name": "python3"
  },
  "language_info": {
   "codemirror_mode": {
    "name": "ipython",
    "version": 3
   },
   "file_extension": ".py",
   "mimetype": "text/x-python",
   "name": "python",
   "nbconvert_exporter": "python",
   "pygments_lexer": "ipython3",
   "version": "3.8.0"
  },
  "toc": {
   "base_numbering": 1,
   "nav_menu": {},
   "number_sections": true,
   "sideBar": true,
   "skip_h1_title": false,
   "title_cell": "Table of Contents",
   "title_sidebar": "Contents",
   "toc_cell": false,
   "toc_position": {},
   "toc_section_display": true,
   "toc_window_display": false
  },
  "varInspector": {
   "cols": {
    "lenName": 16,
    "lenType": 16,
    "lenVar": 40
   },
   "kernels_config": {
    "python": {
     "delete_cmd_postfix": "",
     "delete_cmd_prefix": "del ",
     "library": "var_list.py",
     "varRefreshCmd": "print(var_dic_list())"
    },
    "r": {
     "delete_cmd_postfix": ") ",
     "delete_cmd_prefix": "rm(",
     "library": "var_list.r",
     "varRefreshCmd": "cat(var_dic_list()) "
    }
   },
   "types_to_exclude": [
    "module",
    "function",
    "builtin_function_or_method",
    "instance",
    "_Feature"
   ],
   "window_display": false
  }
 },
 "nbformat": 4,
 "nbformat_minor": 4
}
