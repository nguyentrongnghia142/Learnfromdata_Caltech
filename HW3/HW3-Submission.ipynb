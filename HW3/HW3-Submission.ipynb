{
 "cells": [
  {
   "cell_type": "markdown",
   "metadata": {},
   "source": [
    "# Bài tập 3\n",
    "\n",
    "Nguyễn Trọng Nghĩa - 1712615"
   ]
  },
  {
   "cell_type": "markdown",
   "metadata": {},
   "source": [
    "## Câu 1 (1 điểm)"
   ]
  },
  {
   "cell_type": "markdown",
   "metadata": {},
   "source": [
    "Theo đề bài: \n",
    "$$ 2Me^{-2\\epsilon^{2}N} \\leq x \\Rightarrow N \\geq -\\frac{ln(\\frac{x}{2M})}{2\\epsilon^{2}} $$\n",
    "\n",
    "Với $\\epsilon = 0.05$ và $x = 0.03$"
   ]
  },
  {
   "cell_type": "code",
   "execution_count": 2,
   "metadata": {},
   "outputs": [],
   "source": [
    "import math\n",
    "def numberexamples(epsilon,M,x):\n",
    "    return -(math.log(x/(2*M))/(2*epsilon**2))"
   ]
  },
  {
   "cell_type": "code",
   "execution_count": 3,
   "metadata": {},
   "outputs": [
    {
     "name": "stdout",
     "output_type": "stream",
     "text": [
      "Với số lượng Hypothesis M = 1 thì N nhỏ nhất thỏa Hoeffding là:  839.9410155759853\n"
     ]
    }
   ],
   "source": [
    "print(\"Với số lượng Hypothesis M = 1 thì N nhỏ nhất thỏa Hoeffding là: \",numberexamples(0.05,1,0.03))"
   ]
  },
  {
   "cell_type": "markdown",
   "metadata": {
    "deletable": false,
    "nbgrader": {
     "cell_type": "markdown",
     "checksum": "2e83d862b3c5fd4fb57d72c50e8115f8",
     "grade": true,
     "grade_id": "c1",
     "locked": false,
     "points": 1,
     "schema_version": 3,
     "solution": true,
     "task": false
    }
   },
   "source": [
    "Đáp án là: [b]"
   ]
  },
  {
   "cell_type": "markdown",
   "metadata": {},
   "source": [
    "## Câu 2 (1 điểm)"
   ]
  },
  {
   "cell_type": "code",
   "execution_count": 4,
   "metadata": {},
   "outputs": [
    {
     "name": "stdout",
     "output_type": "stream",
     "text": [
      "Với số lượng Hypothesis M = 10 thì N nhỏ nhất thỏa Hoeffding là:  1300.4580341747942\n"
     ]
    }
   ],
   "source": [
    "print(\"Với số lượng Hypothesis M = 10 thì N nhỏ nhất thỏa Hoeffding là: \",numberexamples(0.05,10,0.03))"
   ]
  },
  {
   "cell_type": "markdown",
   "metadata": {
    "deletable": false,
    "nbgrader": {
     "cell_type": "markdown",
     "checksum": "47d4e2bb3e4812ef7b37e032a898cfec",
     "grade": true,
     "grade_id": "c2",
     "locked": false,
     "points": 1,
     "schema_version": 3,
     "solution": true,
     "task": false
    }
   },
   "source": [
    "Đáp án là: [c]"
   ]
  },
  {
   "cell_type": "markdown",
   "metadata": {},
   "source": [
    "## Câu 3 (1 điểm)"
   ]
  },
  {
   "cell_type": "code",
   "execution_count": 5,
   "metadata": {},
   "outputs": [
    {
     "name": "stdout",
     "output_type": "stream",
     "text": [
      "Với số lượng Hypothesis M = 100 thì N nhỏ nhất thỏa Hoeffding là:  1760.9750527736032\n"
     ]
    }
   ],
   "source": [
    "print(\"Với số lượng Hypothesis M = 100 thì N nhỏ nhất thỏa Hoeffding là: \",numberexamples(0.05,100,0.03))"
   ]
  },
  {
   "cell_type": "markdown",
   "metadata": {
    "deletable": false,
    "nbgrader": {
     "cell_type": "markdown",
     "checksum": "0997a909d9ab1f250c2bfd0645fee970",
     "grade": true,
     "grade_id": "c3",
     "locked": false,
     "points": 1,
     "schema_version": 3,
     "solution": true,
     "task": false
    }
   },
   "source": [
    "Đáp án là: [d]"
   ]
  },
  {
   "cell_type": "markdown",
   "metadata": {},
   "source": [
    "## Câu 4 (1 điểm)"
   ]
  },
  {
   "cell_type": "markdown",
   "metadata": {},
   "source": [
    "Mô hình Perceptron trong không gian 3D:\n",
    "\n",
    "* Xét trường hợp `N = 4` điểm có: $m_{H}(4) = 16 = 2^4  \\Rightarrow$ `N = 4` không phải break point của `H`\n",
    "* Xét trường hợp `N = 5` điểm giả sử với 3 điểm `+1` nằm trong 1 mặt phẳng `(P)` 2 điểm `-1` nằm còn lại nằm đối xứng qua mặt phẳng `(P)` và ngược lại. Do đó không phân tách bằng 1 mặt phẳng trong 2 trường này.\n",
    "\n",
    "$\\Rightarrow m_{H}(5) < 2^5  \\Rightarrow$ `N = 5` là break point của `H`"
   ]
  },
  {
   "cell_type": "markdown",
   "metadata": {
    "deletable": false,
    "nbgrader": {
     "cell_type": "markdown",
     "checksum": "efabab5c4035a6864ac8cb3e0061c6f0",
     "grade": true,
     "grade_id": "c4",
     "locked": false,
     "points": 1,
     "schema_version": 3,
     "solution": true,
     "task": false
    }
   },
   "source": [
    "Đáp án là: [b]"
   ]
  },
  {
   "cell_type": "markdown",
   "metadata": {},
   "source": [
    "## Câu 5 (1 điểm)"
   ]
  },
  {
   "cell_type": "markdown",
   "metadata": {},
   "source": [
    "Theo lý thuyết khái quát hóa trên lớp:\n",
    "* Nếu $H$ không có break point (tức luôn $= 2^N $ $\\forall N$) có growth function $2^N$\n",
    "* Nếu $H$ có break point k (tức là luôn nhỏ hơn $2^N$ với $N \\geq k$) thì growth function bị chặn trên bởi đa thức $ \\sum_{i=0}^{k-1}\\binom{N}{i}  $ \n",
    "\n",
    "Xem xét các function sau:\n",
    "* `i)` $1+N$ là một đa thức bậc nhất, luôn $< 2^N$ với $N \\geq 2 \\Rightarrow$ có break point là k =2.  Do đó `i) là growth function.`\n",
    "* `ii)` $1 + N + \\binom{N}{2} = \\frac{N^2}{2} + \\frac{N}{2} + 1 $ là một đa thức bậc 2, luôn $< 2^N$ với $N \\geq 3 \\Rightarrow$ có break point là k =3. Do đó `ii) là growth function.`\n",
    "* `iii)` $$\\sum_{i=1}^{\\left \\lfloor \\sqrt{_{ N }}\\right \\rfloor}\\binom{N}{i} \\geq \\sum_{i=0}^{\\left \\lfloor \\sqrt{_{ N }}\\right \\rfloor}\\binom{\\left \\lfloor \\sqrt{_{ N }}\\right \\rfloor}{i} - 1 ( vì \\binom{N}{i} > \\binom{\\left \\lfloor N \\right \\rfloor}{i}) $$ \n",
    "$$\\Leftrightarrow  \\sum_{i=1}^{\\left \\lfloor \\sqrt{_{ N }}\\right \\rfloor}\\binom{N}{i} \\geq 2^\\left \\lfloor \\sqrt{_{ N }}\\right \\rfloor - 1 $$(vì theo Nhị thức newton: $\\sum_{i=0}^{\\left \\lfloor \\sqrt{_{ N }}\\right \\rfloor}\\binom{\\left \\lfloor \\sqrt{_{ N }}\\right \\rfloor}{i} = 2^\\left \\lfloor \\sqrt{_{ N }}\\right \\rfloor$ )\n",
    "\n",
    "    $ 2^\\left \\lfloor \\sqrt{_{ N }}\\right \\rfloor -1 $ không phải là một đa thức theo N. Do đó `iii) là không phải growth function.`\n",
    "* `iv)` $2^{\\left \\lfloor \\frac{N}{2} \\right \\rfloor}$ không phải là một đa thức theo N. Do đó `iv) là không phải growth function.`\n",
    "* `v)` $2^N$ không có break point. Do đó `v) là growth function.`\n",
    "\n",
    "Từ kết quả trên: `i), ii) và v) là growth function` "
   ]
  },
  {
   "cell_type": "markdown",
   "metadata": {
    "deletable": false,
    "nbgrader": {
     "cell_type": "markdown",
     "checksum": "0b484b8390bec96142e8a1213ee8cd2c",
     "grade": true,
     "grade_id": "c5",
     "locked": false,
     "points": 1,
     "schema_version": 3,
     "solution": true,
     "task": false
    }
   },
   "source": [
    "Đáp án là: [b]"
   ]
  },
  {
   "cell_type": "markdown",
   "metadata": {},
   "source": [
    "## Câu 6 (1 điểm)"
   ]
  },
  {
   "cell_type": "markdown",
   "metadata": {},
   "source": [
    "Xét model với 2 khoảng chặn: \n",
    "* xét mẫu gồm 4 điểm luôn có cách phân chia 4 điểm với 2 khoảng.\n",
    "* xét mẫu gồm 5 điểm: `(+1 -1 +1 -1 +1)` không thể dùng 2 khoảng tách rời các điểm `+1` với `-1` với nhau.\n",
    "\n",
    "$\\Rightarrow$ `N = 5` là break point của `H`"
   ]
  },
  {
   "cell_type": "markdown",
   "metadata": {
    "deletable": false,
    "nbgrader": {
     "cell_type": "markdown",
     "checksum": "26f542221236fb24d0ddbee584eed7d0",
     "grade": true,
     "grade_id": "c6",
     "locked": false,
     "points": 1,
     "schema_version": 3,
     "solution": true,
     "task": false
    }
   },
   "source": [
    "Đáp án là: [c]"
   ]
  },
  {
   "cell_type": "markdown",
   "metadata": {},
   "source": [
    "## Câu 7 (1 điểm)"
   ]
  },
  {
   "cell_type": "markdown",
   "metadata": {},
   "source": [
    "Theo định lý ta có:\n",
    "    $$m_{H}(N) \\leq B(N,k) \\leq \\sum_{i=0}^{k-1}\\binom{N}{i}  $$\n",
    " \n",
    "Từ câu 6 có `k = 5` là break point của `H` \n",
    "    $$ m_{H}(N) \\leq \\sum_{i=0}^{5-1}\\binom{N}{i} = \\binom{N}{4} + \\binom{N}{3}  + \\binom{N}{2} +  \\binom{N}{1} + \\binom{N}{0} $$\n",
    "    $$ m_{H}(N) \\leq  \\binom{N+1}{4} + \\binom{N+1}{2} + 1$$\n",
    "\n",
    "Vì theo công thức $\\binom{N}{i} + \\binom{N}{i-1} = \\binom{N+1}{i}$\n",
    "\n",
    "Xét N điểm trong không gian 1 chiều (đặt N điểm tách rời nhau sao cho có nhiều dichotomy nhất) chia không gian thành N+1 vùng.\n",
    "Với `2- intervals` learning model có 4 vùng chặn tương ứng 2 khoảng (sẽ có 2 trường hợp).\n",
    "* TH1: 2 khoảng tách rời nhau sẽ có $\\binom{N+1}{4}$ cách phân chia.\n",
    "* TH2: 2 khoảng trùng nhau thì trở thành bài toán `1-intervals` $\\Rightarrow có \\binom{N+1}{2} + 1$ cách phân chia.\n",
    "\n",
    "Do đó: $m_{H}(N) =  \\binom{N+1}{4} + \\binom{N+1}{2} + 1$"
   ]
  },
  {
   "cell_type": "markdown",
   "metadata": {
    "deletable": false,
    "nbgrader": {
     "cell_type": "markdown",
     "checksum": "322a244b0fae3a20ec568a5099aaaec1",
     "grade": true,
     "grade_id": "c7",
     "locked": false,
     "points": 1,
     "schema_version": 3,
     "solution": true,
     "task": false
    }
   },
   "source": [
    "Đáp án là: [c]"
   ]
  },
  {
   "cell_type": "markdown",
   "metadata": {},
   "source": [
    "## Câu 8 (1 điểm)"
   ]
  },
  {
   "cell_type": "markdown",
   "metadata": {},
   "source": [
    "Theo câu 6 ta có:\n",
    "\n",
    "* với `2` khoảng chặn thì `k = 5` là break point của `H`.\n",
    "* với `3` khoảng chặn thì `k = 7` là break point của `H` (TH: `(+1 -1 +1 -1 +1 -1 +1)`)\n",
    "* với `4` khoảng chặn thì `k = 9` là break point của `H` (TH: `(+1 -1 +1 -1 +1 -1 +1 -1 +1)`)\n",
    "* ...\n",
    "* $\\Rightarrow$ với `M` khoảng chặn thì `k = 2M+1` là break point của `H`."
   ]
  },
  {
   "cell_type": "markdown",
   "metadata": {
    "deletable": false,
    "nbgrader": {
     "cell_type": "markdown",
     "checksum": "d81773f072cd15e4a27b6cd240a5d990",
     "grade": true,
     "grade_id": "c8",
     "locked": false,
     "points": 1,
     "schema_version": 3,
     "solution": true,
     "task": false
    }
   },
   "source": [
    "Đáp án là: [d]"
   ]
  },
  {
   "cell_type": "markdown",
   "metadata": {},
   "source": [
    "## Câu 9 (1 điểm)"
   ]
  },
  {
   "cell_type": "markdown",
   "metadata": {},
   "source": [
    "Xem xét \"triangle\" leaning model:\n",
    "* Trường hợp convex sets $\\leq 4$ điểm luôn tách được bởi 1 tam giác.\n",
    "* Cố định tam giác với 4 điểm nằm trên tam giác đó.\n",
    "* Trường hợp convex sets 5 điểm: nếu điểm thứ 5 là màu đỏ thì mở rộng tam giác phủ điểm đó, còn là màu xanh thì luôn có một tam giác tách rời 4 điểm với điểm còn lại.\n",
    "* Trường hợp convex sets 6 điểm: nếu điểm thứ 6 là đỏ thì mở rộng diện tích tam giác, còn là màu xanh thì vẫn còn cách đặt tam giác tách rời với điểm đó. (với mọi điểm trong Convex Set)\n",
    "* Xét kĩ trường hợp convex sets gồm 7 và 8 điểm: (màu đỏ là +1 và xanh là -1)\n",
    "<img src=\"Convexsets78.png\"/>"
   ]
  },
  {
   "cell_type": "markdown",
   "metadata": {},
   "source": [
    "Như đã thấy `Hình a` vẫn có thể dùng tam giác để tách rời trong convex sets 7 điểm. \n",
    "\n",
    "Với Convex 8 điểm ( `Hình b và c`)\n",
    "* `Hình b` tam giác $IF_{1}J$ là giới hạn để $D_{1}$ là màu đỏ.\n",
    "* `Hình c` điểm thứ 8 $E_{1}$ là màu xanh thì không thể (vì $E_{1}$ sẽ phá vỡ giới hạn của convex sets, không có góc nào lớn 180 độ). Giới hạn tối đa là khi đó $E_{1}RS$ sẽ thẳng hàng lúc đó điểm $V và S$ cũng trở thành màu đỏ. \n",
    "$\\Rightarrow m_{H}(N) < 2^N với N = 8$ \n",
    "\n",
    "Do đó, Convex sets có số điểm lớn nhất mà tam giác có thể phân tách mọi trường hợp là `7 điểm` ($m_{H}(7) = 2^7$)"
   ]
  },
  {
   "cell_type": "markdown",
   "metadata": {
    "deletable": false,
    "nbgrader": {
     "cell_type": "markdown",
     "checksum": "e814a2db0b8a53e4fddfee4bcbf405fc",
     "grade": true,
     "grade_id": "c9",
     "locked": false,
     "points": 1,
     "schema_version": 3,
     "solution": true,
     "task": false
    }
   },
   "source": [
    "Đáp án là: [d]"
   ]
  },
  {
   "cell_type": "markdown",
   "metadata": {},
   "source": [
    "## Câu 10 (1 điểm)"
   ]
  },
  {
   "cell_type": "markdown",
   "metadata": {},
   "source": [
    "Xét model gồm 2 đường tròn đồng tâm: \n",
    "* Giả sử cặp dấu ngoặc tròn xem như một hình tròn bán kinh là R. `()`\n",
    "* Ta chọn 2 vòng tròn đồng tâm: `R = a` và `R = b` và $a^2 \\leq x_{1}^2 + x_{2}^2 + \\leq b^2$ ( tức là với tập điểm dữ liệu nằm giữa 2 đường tròn là +1 và ngược lại là -1).\n",
    "* Được tượng trưng như sau: `-1 -1 -1 (+1 +1 +1 ( -1 -1 -1 -1 ) +1 +1 +1) -1 -1 -1 -1`\n",
    "* Với tập các điểm dữ liệu được đặt tách rời nhau (tức là không nằm trùng và không nằm trên cùng một đường tròn) với `N` điểm dữ liệu thì có `N + 1` đường tròn để tách dữ liệu.\n",
    "\n",
    "$\\Rightarrow m_{H}(N) = \\binom{N+1}{2} + 1$ (vì số cách chọn 2 đường tròn trong `N+1` đường tròn là $\\binom{N+1}{2}$ và khi 2 đường tròn trùng nhau là 1) "
   ]
  },
  {
   "cell_type": "markdown",
   "metadata": {
    "deletable": false,
    "nbgrader": {
     "cell_type": "markdown",
     "checksum": "41cbf5c6d2b94eeae0a712be2181fef6",
     "grade": true,
     "grade_id": "c10",
     "locked": false,
     "points": 1,
     "schema_version": 3,
     "solution": true,
     "task": false
    }
   },
   "source": [
    "Đáp án là: [b]"
   ]
  }
 ],
 "metadata": {
  "kernelspec": {
   "display_name": "Python 3",
   "language": "python",
   "name": "python3"
  },
  "language_info": {
   "codemirror_mode": {
    "name": "ipython",
    "version": 3
   },
   "file_extension": ".py",
   "mimetype": "text/x-python",
   "name": "python",
   "nbconvert_exporter": "python",
   "pygments_lexer": "ipython3",
   "version": "3.8.0"
  },
  "toc": {
   "base_numbering": 1,
   "nav_menu": {},
   "number_sections": true,
   "sideBar": true,
   "skip_h1_title": false,
   "title_cell": "Table of Contents",
   "title_sidebar": "Contents",
   "toc_cell": false,
   "toc_position": {},
   "toc_section_display": true,
   "toc_window_display": false
  },
  "varInspector": {
   "cols": {
    "lenName": 16,
    "lenType": 16,
    "lenVar": 40
   },
   "kernels_config": {
    "python": {
     "delete_cmd_postfix": "",
     "delete_cmd_prefix": "del ",
     "library": "var_list.py",
     "varRefreshCmd": "print(var_dic_list())"
    },
    "r": {
     "delete_cmd_postfix": ") ",
     "delete_cmd_prefix": "rm(",
     "library": "var_list.r",
     "varRefreshCmd": "cat(var_dic_list()) "
    }
   },
   "types_to_exclude": [
    "module",
    "function",
    "builtin_function_or_method",
    "instance",
    "_Feature"
   ],
   "window_display": false
  }
 },
 "nbformat": 4,
 "nbformat_minor": 4
}
