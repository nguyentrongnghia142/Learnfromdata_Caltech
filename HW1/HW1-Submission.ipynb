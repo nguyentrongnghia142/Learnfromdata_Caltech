{
 "cells": [
  {
   "cell_type": "markdown",
   "metadata": {},
   "source": [
    "# Bài tập 1\n",
    "\n",
    "Nguyễn Trọng Nghĩa - 1712615"
   ]
  },
  {
   "cell_type": "markdown",
   "metadata": {},
   "source": [
    "## Câu 1 (1 điểm)"
   ]
  },
  {
   "cell_type": "markdown",
   "metadata": {
    "deletable": false,
    "nbgrader": {
     "cell_type": "markdown",
     "checksum": "2e83d862b3c5fd4fb57d72c50e8115f8",
     "grade": true,
     "grade_id": "c1",
     "locked": false,
     "points": 1,
     "schema_version": 3,
     "solution": true,
     "task": false
    }
   },
   "source": [
    "Theo đề bài:\n",
    "* $(i)$ Dựa trên những thông số kỹ thuật tiền xu chính xác chúng ta có thể xác định loại tiền xu bằng một `công thức xác định` dựa trên những thông số đó. Nên $(i)$ thuộc loại `Not learning`.\n",
    "* $(ii)$ Mô hình dựa trên bộ dữ liệu các đồng tiền được `gán nhãn` để phân loại. Nên $(ii)$ thuộc loại `Superviesd Learning`.\n",
    "* $(iii)$ Tồn tại một mẫu không biết trước để phát triển trò chiến lược trò chơi Tic-Tac-Toe và tồn tại tập dữ liệu `chưa có nhãn chính xác trước` và `cập nhật nhãn` sau những lần thua cuộc để dần chiến thắng trò chơi. Nên $(iii)$ thuộc loại `Reinforcement Learning`\n",
    "\n",
    "Do đó, đáp án là câu [d]"
   ]
  },
  {
   "cell_type": "markdown",
   "metadata": {
    "heading_collapsed": true
   },
   "source": [
    "## Câu 2 (1 điểm)"
   ]
  },
  {
   "cell_type": "markdown",
   "metadata": {
    "deletable": false,
    "hidden": true,
    "nbgrader": {
     "cell_type": "markdown",
     "checksum": "47d4e2bb3e4812ef7b37e032a898cfec",
     "grade": true,
     "grade_id": "c2",
     "locked": false,
     "points": 1,
     "schema_version": 3,
     "solution": true,
     "task": false
    }
   },
   "source": [
    "Ta có:\n",
    "* $(i)$ Để phân loại số nguyên tố, nó có tồn tại một công thức xác định $\\Rightarrow$ không áp dụng Machine Learning.\n",
    "* $(ii)$ Để phát hiện gian lận nó tồn tại một mẫu để xác định, không thể viết trực công thức trực tiếp và ta có dữ liệu về nó $\\Rightarrow$  phù hợp áp dụng Machine Learning.\n",
    "* $(iii)$ Xác định thời gian rơi một vật có công thức xác định cụ thể $\\Rightarrow$  không phù hợp áp dụng Machine Learning.\n",
    "* $(iii)$ Tồn tại mẫu xác định chu kì đèn giao thông, không thể viết ra trực tiếp và ta có dữ liệu để vận dụng $\\Rightarrow$  phù hợp áp dụng Machine Learning.\n",
    "\n",
    "Do đó, đáp án là câu [a]"
   ]
  },
  {
   "cell_type": "markdown",
   "metadata": {
    "heading_collapsed": true
   },
   "source": [
    "## Câu 3 (1 điểm)"
   ]
  },
  {
   "cell_type": "markdown",
   "metadata": {
    "deletable": false,
    "hidden": true,
    "nbgrader": {
     "cell_type": "markdown",
     "checksum": "0997a909d9ab1f250c2bfd0645fee970",
     "grade": true,
     "grade_id": "c3",
     "locked": false,
     "points": 1,
     "schema_version": 3,
     "solution": true,
     "task": false
    }
   },
   "source": [
    "Gọi biến cố:\n",
    "* $A$ là \"sự kiện bốc được viên bi đầu tiên là đen\"\n",
    "* $B$ là \"sự kiện bốc viên bi thứ 2 cũng là màu đen\"\n",
    "\n",
    "Theo đề bài ta có: Xác suất toàn phần của $A$\n",
    "$$P(A) = \\frac{1}{2} * 1 + \\frac{1}{2} * \\frac{1}{2}$$\n",
    "Theo xác suất có điều kiện $B$ xảy ra khi đã có $A$: \n",
    "$$P(B|A) = \\frac{P(A\\cap B)}{P(A)} = \\frac{\\frac{1}{2}}{\\frac{3}{4}} = \\frac{2}{3}$$\n",
    "Do đó, đáp án là câu [d]"
   ]
  },
  {
   "cell_type": "markdown",
   "metadata": {
    "heading_collapsed": true
   },
   "source": [
    "## Câu 4 (1 điểm)"
   ]
  },
  {
   "cell_type": "markdown",
   "metadata": {},
   "source": [
    "Theo đề bài câu 4 và 5 ta có: \n",
    "* Số lượng bộ dữ liệu trong một mẫu: $N=10$\n",
    "* Xác suất một viên bi là màu đỏ: $\\mu = 0.55$\n",
    "* $\\nu$ là biến cố mẫu không có màu đỏ: $\\nu = 0$"
   ]
  },
  {
   "cell_type": "markdown",
   "metadata": {
    "deletable": false,
    "hidden": true,
    "nbgrader": {
     "cell_type": "markdown",
     "checksum": "efabab5c4035a6864ac8cb3e0061c6f0",
     "grade": true,
     "grade_id": "c4",
     "locked": false,
     "points": 1,
     "schema_version": 3,
     "solution": true,
     "task": false
    }
   },
   "source": [
    "Ta có xác suất viên bi màu green là 1-$\\mu$\n",
    "\n",
    "Xác suất một mẫu có $\\nu$ = 0 là $$P = (1-\\mu)^N = (1-0.55)^{10} =3.405 × 10^−4$$\n",
    " \n",
    "Do đó, đáp án là câu [b]"
   ]
  },
  {
   "cell_type": "markdown",
   "metadata": {
    "heading_collapsed": true
   },
   "source": [
    "## Câu 5 (1 điểm)"
   ]
  },
  {
   "cell_type": "markdown",
   "metadata": {
    "deletable": false,
    "hidden": true,
    "nbgrader": {
     "cell_type": "markdown",
     "checksum": "0b484b8390bec96142e8a1213ee8cd2c",
     "grade": true,
     "grade_id": "c5",
     "locked": false,
     "points": 1,
     "schema_version": 3,
     "solution": true,
     "task": false
    }
   },
   "source": [
    "Ta có $1000$ mẫu.\n",
    "Gọi $A$ là biến cố tồn tại ít nhất một mẫu có $\\nu = 0$\n",
    "\n",
    "$\\Rightarrow$ Xác suất không tồn tại mẫu có $\\nu = 0$ trong $1000$ mẫu là: $$ (1-P)^{1000} = (1-3.405 × 10^−4)^{1000} = 0.7114$$\n",
    "\n",
    "$$\\Rightarrow P(A) = 1 - 0.7114  = 0.2886$$\n",
    "Do đó, đáp án là câu [c]"
   ]
  },
  {
   "cell_type": "markdown",
   "metadata": {
    "heading_collapsed": true
   },
   "source": [
    "## Câu 6 (1 điểm)"
   ]
  },
  {
   "cell_type": "markdown",
   "metadata": {
    "deletable": false,
    "hidden": true,
    "nbgrader": {
     "cell_type": "markdown",
     "checksum": "26f542221236fb24d0ddbee584eed7d0",
     "grade": true,
     "grade_id": "c6",
     "locked": false,
     "points": 1,
     "schema_version": 3,
     "solution": true,
     "task": false
    }
   },
   "source": [
    "Với bộ 3 bộ dữ liệu còn lại của $X$ ngoài tập $D$: `101,110,111` tương ứng sẽ có 3 trị đầu ra dạng Boolean `(1 or 0)`\n",
    "* Mỗi giá trị đầu ra gồm 2 trường hợp $\\Rightarrow$ Không gian mẫu các kết quả có thể xảy ra là: $\\Omega = 2^3 = 8$ tương ứng với 8 hàm mục tiêu có thể có. \n",
    "* Với mỗi `Hypothesis` phù hợp với $D$ tương ứng tạo ra một mẫu trong $\\Omega$, ta tính Score của mẫu đó:\n",
    "    - Hàm mục tiêu khớp cả 3 điểm với hypothesis tương ứng với có 0 điểm bị sai $\\Rightarrow C{3}^{0} = 1$ hàm mục tiêu.\n",
    "    - Hàm mục tiêu khớp cả 2 điểm với hypothesis tương ứng với 1 điểm nhận giá trị sai $\\Rightarrow C{3}^{1} = 3$ hàm mục tiêu.\n",
    "    - Hàm mục tiêu khớp cả 1 điểm với hypothesis tương ứng với 2 điểm nhận giá trị sai $\\Rightarrow C{3}^{2} = 3$ hàm mục tiêu.\n",
    "    - Hàm mục tiêu khớp cả 0 điểm với hypothesis tương ứng với 3 điểm đều sai $\\Rightarrow C{3}^{3} = 1$ hàm mục tiêu.\n",
    "* Vậy $Score = 1*3 + 3 * 2 + 3 * 1 + 1*0 = 12$\n",
    "\n",
    "Số điểm của mỗi `Hypothesis g` tạo ra đều có số điểm như nhau trên những hàm mục tiêu.\n",
    "\n",
    "Do đó, đáp án là câu [e]"
   ]
  },
  {
   "cell_type": "markdown",
   "metadata": {
    "heading_collapsed": true
   },
   "source": [
    "## Câu 7 (1 điểm)"
   ]
  },
  {
   "cell_type": "markdown",
   "metadata": {},
   "source": [
    "**Chương trình áp dụng cho câu 7,8,9 và 10:** "
   ]
  },
  {
   "cell_type": "code",
   "execution_count": 1,
   "metadata": {},
   "outputs": [],
   "source": [
    "import numpy as np"
   ]
  },
  {
   "cell_type": "code",
   "execution_count": 2,
   "metadata": {},
   "outputs": [],
   "source": [
    "def generate_target_w():\n",
    "    \"\"\"\n",
    "    Generates target_w (the vector of parameters of f) \n",
    "    from two random, uniformly distributed points in [-1, 1] x [-1, 1].\n",
    "    \n",
    "    Returns\n",
    "    -------\n",
    "    target_w : numpy array, shape (3, 1) \n",
    "        The vector of parameters of f.\n",
    "    \"\"\"\n",
    "    # Generate two points from a uniform distribution over [-1, 1]x[-1, 1]\n",
    "    p1 = np.random.uniform(-1, 1, 2)\n",
    "    p2 = np.random.uniform(-1, 1, 2)\n",
    "    # Compute the target W from these two points\n",
    "    target_w = np.array([p1[1]*p2[0] - p1[0]*p2[1], p2[1] - p1[1], p1[0] - p2[0]]).reshape((-1, 1))\n",
    "    \n",
    "    return target_w"
   ]
  },
  {
   "cell_type": "code",
   "execution_count": 3,
   "metadata": {},
   "outputs": [],
   "source": [
    "def generate_data(N, target_w):\n",
    "    \"\"\"\n",
    "    Generates a data set by generating random inputs and then using target_w to generate the \n",
    "    corresponding outputs.\n",
    "    \n",
    "    Parameters\n",
    "    ----------\n",
    "    N : int\n",
    "        The number of examples.\n",
    "    target_w : numpy array, shape (3, 1) \n",
    "        The vector of parameters of f.\n",
    "    \n",
    "    Returns\n",
    "    -------\n",
    "    X : numpy array, shape (N, 3)\n",
    "        The matrix of input vectors (each row corresponds to an input vector); the first column of \n",
    "        this matrix is all ones.\n",
    "    Y : numpy array, shape (N, 1)\n",
    "        The vector of outputs.        \n",
    "    \"\"\"\n",
    "    bad_data = True # `bad_data = True` means: data contain points on the target line \n",
    "                    # (this rarely happens, but just to be careful)\n",
    "                    # -> y's of these points = 0 (with np.sign); \n",
    "                    #    we don't want this (y's of data must be -1 or 1)\n",
    "                    # -> re-generate data until `bad_data = False`\n",
    "    \n",
    "    while bad_data == True:\n",
    "        X = np.random.uniform(-1, 1, (N, 2))\n",
    "        X = np.hstack((np.ones((N, 1)), X)) # Add 'ones' column\n",
    "        Y = np.sign(np.dot(X, target_w))\n",
    "        if (0 not in Y): # Good data\n",
    "            bad_data = False\n",
    "    \n",
    "    return X, Y"
   ]
  },
  {
   "cell_type": "code",
   "execution_count": 4,
   "metadata": {},
   "outputs": [],
   "source": [
    "def run_PLA(X, Y):\n",
    "    \"\"\"\n",
    "    Runs PLA.\n",
    "    \n",
    "    Parameters\n",
    "    ----------\n",
    "    X : numpy array, shape (N, 3)\n",
    "        The matrix of input vectors (each row corresponds to an input vector); the first column of \n",
    "        this matrix is all ones.\n",
    "    Y : numpy array, shape (N, 1)\n",
    "        The vector of outputs.\n",
    "    \n",
    "    Returns\n",
    "    -------\n",
    "    w : numpy array, shape (3, 1) \n",
    "        The vector of parameters of g.\n",
    "    num_iterations : int\n",
    "        The number of iterations PLA takes to converge.\n",
    "    \"\"\"\n",
    "    w = np.zeros((X.shape[1], 1)) # Init w\n",
    "    iteration = 0\n",
    "    \n",
    "    # to do\n",
    "    w_bad = True;\n",
    "    while w_bad:\n",
    "        miss = np.where(np.sign(np.dot(X,w))!=Y)[0]\n",
    "        if (miss.size == 0):\n",
    "            break;\n",
    "        random = np.random.choice(miss)\n",
    "        w = w + Y[random]*X[random].reshape(-1,1)\n",
    "        iteration +=1\n",
    "        \n",
    "    return w, iteration"
   ]
  },
  {
   "cell_type": "code",
   "execution_count": 5,
   "metadata": {},
   "outputs": [],
   "source": [
    "def main(N): # You don't have to name this function \"main\", you can use other names\n",
    "    \"\"\"\n",
    "    Parameters\n",
    "    ----------\n",
    "    N : int\n",
    "        The number of training examples.\n",
    "    \"\"\"\n",
    "    num_runs = 1000\n",
    "    avg_num_iterations = 0.0 # The average number of iterations PLA takes to converge\n",
    "    avg_test_err = 0.0 # The average test error of g - the final hypothesis picked by PLA\n",
    "    \n",
    "    for r in range(num_runs):\n",
    "        # Generate target_w\n",
    "        target_w = generate_target_w()\n",
    "        \n",
    "        # Generate training set\n",
    "        X, Y = generate_data(N, target_w)\n",
    "        \n",
    "        # Run PLA to pick g\n",
    "        w, num_iterations = run_PLA(X, Y)\n",
    "        \n",
    "        # Generate test set\n",
    "        X_test, Y_test = generate_data(10000, target_w)\n",
    "        \n",
    "        # Test g\n",
    "        test_err = np.mean(np.sign(np.dot(X_test, w)) != Y_test)\n",
    "        \n",
    "        # Update average values\n",
    "        avg_num_iterations += (num_iterations * 1.0 / num_runs)\n",
    "        avg_test_err += (test_err * 1.0 / num_runs)\n",
    "    \n",
    "    # Print results\n",
    "    print('avg_num_iterations = %f' % (avg_num_iterations))\n",
    "    print('avg_test_err = %f' % (avg_test_err))"
   ]
  },
  {
   "cell_type": "code",
   "execution_count": 6,
   "metadata": {},
   "outputs": [
    {
     "name": "stdout",
     "output_type": "stream",
     "text": [
      "avg_num_iterations = 9.667000\n",
      "avg_test_err = 0.111354\n"
     ]
    }
   ],
   "source": [
    "# Run to find out answers for question 7 & 8! \n",
    "main(N=10) # We can use `main(10)`, but `main(N=10)` is clearer"
   ]
  },
  {
   "cell_type": "markdown",
   "metadata": {
    "deletable": false,
    "hidden": true,
    "nbgrader": {
     "cell_type": "markdown",
     "checksum": "322a244b0fae3a20ec568a5099aaaec1",
     "grade": true,
     "grade_id": "c7",
     "locked": false,
     "points": 1,
     "schema_version": 3,
     "solution": true,
     "task": false
    }
   },
   "source": [
    "Từ kết quả của đoạn code trên: Thử nghiệm với `1000 lần`\n",
    "* Số lần lặp trung bình để PLA hội tụ với $N=10$ qua nhiều lần chạy thử thì `avg_num_iterations` xấp xỉ khoảng $15$ lần.\n",
    "\n",
    "Do đó, đáp án là câu [b]"
   ]
  },
  {
   "cell_type": "markdown",
   "metadata": {
    "heading_collapsed": true
   },
   "source": [
    "## Câu 8 (1 điểm)"
   ]
  },
  {
   "cell_type": "markdown",
   "metadata": {
    "deletable": false,
    "hidden": true,
    "nbgrader": {
     "cell_type": "markdown",
     "checksum": "d81773f072cd15e4a27b6cd240a5d990",
     "grade": true,
     "grade_id": "c8",
     "locked": false,
     "points": 1,
     "schema_version": 3,
     "solution": true,
     "task": false
    }
   },
   "source": [
    "* Độ lỗi trung bình của PLA với $N=10$ có `avg_test_err` xấp xỉ gần bằng $0.1$\n",
    "\n",
    "Do đó, đáp án là câu [c]"
   ]
  },
  {
   "cell_type": "markdown",
   "metadata": {
    "heading_collapsed": true
   },
   "source": [
    "## Câu 9 (1 điểm)"
   ]
  },
  {
   "cell_type": "code",
   "execution_count": 7,
   "metadata": {},
   "outputs": [
    {
     "name": "stdout",
     "output_type": "stream",
     "text": [
      "avg_num_iterations = 96.262000\n",
      "avg_test_err = 0.013250\n"
     ]
    }
   ],
   "source": [
    "# Question 9 & 10\n",
    "main(N=100)"
   ]
  },
  {
   "cell_type": "markdown",
   "metadata": {
    "deletable": false,
    "hidden": true,
    "nbgrader": {
     "cell_type": "markdown",
     "checksum": "e814a2db0b8a53e4fddfee4bcbf405fc",
     "grade": true,
     "grade_id": "c9",
     "locked": false,
     "points": 1,
     "schema_version": 3,
     "solution": true,
     "task": false
    }
   },
   "source": [
    "Từ kết quả của đoạn code trên: Thử nghiệm với `1000 lần`\n",
    "* Số lần lặp trung bình để PLA hội tụ với $N = 100$ qua nhiều lần chạy thì `avg_num_iterations` xấp xỉ khoảng $100$ lần.\n",
    "\n",
    "$\\Rightarrow$ Chọn đáp án xấp xỉ gần nhất là 100\n",
    "\n",
    "Do đó, đáp án là câu [b]"
   ]
  },
  {
   "cell_type": "markdown",
   "metadata": {},
   "source": [
    "## Câu 10 (1 điểm)"
   ]
  },
  {
   "cell_type": "markdown",
   "metadata": {
    "deletable": false,
    "nbgrader": {
     "cell_type": "markdown",
     "checksum": "41cbf5c6d2b94eeae0a712be2181fef6",
     "grade": true,
     "grade_id": "c10",
     "locked": false,
     "points": 1,
     "schema_version": 3,
     "solution": true,
     "task": false
    }
   },
   "source": [
    "* Độ lỗi trung bình của PLA với $N =100$ có `avg_test_err` xấp xỉ gần bằng $0,01$\n",
    "\n",
    "Do đó, đáp án là câu [b]"
   ]
  }
 ],
 "metadata": {
  "kernelspec": {
   "display_name": "Python 3",
   "language": "python",
   "name": "python3"
  },
  "language_info": {
   "codemirror_mode": {
    "name": "ipython",
    "version": 3
   },
   "file_extension": ".py",
   "mimetype": "text/x-python",
   "name": "python",
   "nbconvert_exporter": "python",
   "pygments_lexer": "ipython3",
   "version": "3.8.0"
  },
  "toc": {
   "base_numbering": 1,
   "nav_menu": {},
   "number_sections": true,
   "sideBar": true,
   "skip_h1_title": false,
   "title_cell": "Table of Contents",
   "title_sidebar": "Contents",
   "toc_cell": false,
   "toc_position": {},
   "toc_section_display": true,
   "toc_window_display": false
  },
  "varInspector": {
   "cols": {
    "lenName": 16,
    "lenType": 16,
    "lenVar": 40
   },
   "kernels_config": {
    "python": {
     "delete_cmd_postfix": "",
     "delete_cmd_prefix": "del ",
     "library": "var_list.py",
     "varRefreshCmd": "print(var_dic_list())"
    },
    "r": {
     "delete_cmd_postfix": ") ",
     "delete_cmd_prefix": "rm(",
     "library": "var_list.r",
     "varRefreshCmd": "cat(var_dic_list()) "
    }
   },
   "types_to_exclude": [
    "module",
    "function",
    "builtin_function_or_method",
    "instance",
    "_Feature"
   ],
   "window_display": false
  }
 },
 "nbformat": 4,
 "nbformat_minor": 4
}
